{
 "cells": [
  {
   "cell_type": "code",
   "execution_count": 3,
   "metadata": {},
   "outputs": [
    {
     "name": "stderr",
     "output_type": "stream",
     "text": [
      "Warning message:\n",
      "\"package 'ismev' was built under R version 3.6.3\"Loading required package: mgcv\n",
      "Loading required package: nlme\n",
      "This is mgcv 1.8-28. For overview type 'help(\"mgcv-package\")'.\n",
      "Warning message:\n",
      "\"package 'e1071' was built under R version 3.6.3\"Warning message:\n",
      "\"package 'ppcc' was built under R version 3.6.3\"Warning message:\n",
      "\"package 'FAdist' was built under R version 3.6.3\"Warning message:\n",
      "\"package 'pracma' was built under R version 3.6.3\"\n",
      "Attaching package: 'pracma'\n",
      "\n",
      "The following object is masked from 'package:e1071':\n",
      "\n",
      "    sigmoid\n",
      "\n",
      "The following object is masked from 'package:mgcv':\n",
      "\n",
      "    magic\n",
      "\n"
     ]
    }
   ],
   "source": [
    "library(ismev)\n",
    "source(\"utils.R\")\n",
    "library(ggplot2)\n",
    "library(fitdistrplus)"
   ]
  },
  {
   "cell_type": "code",
   "execution_count": 2,
   "metadata": {},
   "outputs": [
    {
     "name": "stderr",
     "output_type": "stream",
     "text": [
      "Removing package from 'C:/Users/smj5vup/Documents/R/win-library/3.6'\n",
      "(as 'lib' is unspecified)\n",
      "Removing package from 'C:/Users/smj5vup/Documents/R/win-library/3.6'\n",
      "(as 'lib' is unspecified)\n",
      "Installing package into 'C:/Users/smj5vup/Documents/R/win-library/3.6'\n",
      "(as 'lib' is unspecified)\n"
     ]
    },
    {
     "name": "stdout",
     "output_type": "stream",
     "text": [
      "\n",
      "  There is a binary version available but the source version is later:\n",
      "      binary source needs_compilation\n",
      "rlang 0.4.10 0.4.11              TRUE\n",
      "\n",
      "  Binaries will be installed\n",
      "package 'rlang' successfully unpacked and MD5 sums checked\n",
      "\n",
      "The downloaded binary packages are in\n",
      "\tC:\\Users\\smj5vup\\AppData\\Local\\Temp\\RtmpKYGbux\\downloaded_packages\n"
     ]
    },
    {
     "name": "stderr",
     "output_type": "stream",
     "text": [
      "Installing package into 'C:/Users/smj5vup/Documents/R/win-library/3.6'\n",
      "(as 'lib' is unspecified)\n",
      "also installing the dependencies 'glue', 'tidyselect'\n",
      "\n"
     ]
    },
    {
     "name": "stdout",
     "output_type": "stream",
     "text": [
      "package 'glue' successfully unpacked and MD5 sums checked\n",
      "package 'tidyselect' successfully unpacked and MD5 sums checked\n",
      "package 'dplyr' successfully unpacked and MD5 sums checked\n",
      "\n",
      "The downloaded binary packages are in\n",
      "\tC:\\Users\\smj5vup\\AppData\\Local\\Temp\\RtmpKYGbux\\downloaded_packages\n"
     ]
    },
    {
     "name": "stderr",
     "output_type": "stream",
     "text": [
      "Installing package into 'C:/Users/smj5vup/Documents/R/win-library/3.6'\n",
      "(as 'lib' is unspecified)\n"
     ]
    },
    {
     "name": "stdout",
     "output_type": "stream",
     "text": [
      "package 'ggplot2' successfully unpacked and MD5 sums checked\n",
      "\n",
      "The downloaded binary packages are in\n",
      "\tC:\\Users\\smj5vup\\AppData\\Local\\Temp\\RtmpKYGbux\\downloaded_packages\n"
     ]
    },
    {
     "name": "stderr",
     "output_type": "stream",
     "text": [
      "Warning message:\n",
      "\"package 'rlang' was built under R version 3.6.3\""
     ]
    },
    {
     "ename": "ERROR",
     "evalue": "Error in value[[3L]](cond): Package 'rlang' version 0.3.4 cannot be unloaded:\n Error in unloadNamespace(package) : namespace 'rlang' is imported by 'htmltools' so cannot be unloaded\n\n",
     "output_type": "error",
     "traceback": [
      "Error in value[[3L]](cond): Package 'rlang' version 0.3.4 cannot be unloaded:\n Error in unloadNamespace(package) : namespace 'rlang' is imported by 'htmltools' so cannot be unloaded\n\nTraceback:\n",
      "1. library(rlang)",
      "2. tryCatch(unloadNamespace(package), error = function(e) {\n .     P <- if (!is.null(cc <- conditionCall(e))) \n .         paste(\"Error in\", deparse(cc)[1L], \": \")\n .     else \"Error : \"\n .     stop(gettextf(\"Package %s version %s cannot be unloaded:\\n %s\", \n .         sQuote(package), oldversion, paste0(P, conditionMessage(e), \n .             \"\\n\")), domain = NA)\n . })",
      "3. tryCatchList(expr, classes, parentenv, handlers)",
      "4. tryCatchOne(expr, names, parentenv, handlers[[1L]])",
      "5. value[[3L]](cond)",
      "6. stop(gettextf(\"Package %s version %s cannot be unloaded:\\n %s\", \n .     sQuote(package), oldversion, paste0(P, conditionMessage(e), \n .         \"\\n\")), domain = NA)"
     ]
    }
   ],
   "source": [
    "# remove.packages(\"rlang\")\n",
    "remove.packages(\"dplyr\")\n",
    "remove.packages(\"ggplot2\")\n",
    "install.packages(\"rlang\")\n",
    "install.packages(\"dplyr\")\n",
    "install.packages(\"ggplot2\")\n",
    "\n",
    "library(rlang)\n",
    "library(dplyr)\n",
    "library(ggplot2)"
   ]
  },
  {
   "cell_type": "code",
   "execution_count": 2,
   "metadata": {},
   "outputs": [
    {
     "name": "stderr",
     "output_type": "stream",
     "text": [
      "Warning message:\n",
      "\"package 'fitdistrplus' was built under R version 3.6.3\"Loading required package: MASS\n",
      "Loading required package: survival\n"
     ]
    }
   ],
   "source": [
    "library(fitdistrplus)\n"
   ]
  },
  {
   "cell_type": "code",
   "execution_count": 4,
   "metadata": {},
   "outputs": [],
   "source": [
    "GFDL_maxQ = read.csv('../Data/GFDL_maxQ.csv')\n",
    "CCSM_maxQ = read.csv('../Data/CCSM_maxQ.csv')"
   ]
  },
  {
   "cell_type": "code",
   "execution_count": 5,
   "metadata": {},
   "outputs": [],
   "source": [
    "ti = matrix(ncol=1, nrow=length(GFDL_maxQ$Year))\n",
    "ti[,1] = seq(1,length(GFDL_maxQ$Year),1)"
   ]
  },
  {
   "cell_type": "markdown",
   "metadata": {},
   "source": [
    "### Fit models\n",
    "\n",
    "#### Stationary"
   ]
  },
  {
   "cell_type": "code",
   "execution_count": 5,
   "metadata": {},
   "outputs": [
    {
     "name": "stdout",
     "output_type": "stream",
     "text": [
      "$conv\n",
      "[1] 0\n",
      "\n",
      "$nllh\n",
      "[1] 960.0192\n",
      "\n",
      "$mle\n",
      "[1] 2.110148e+03 1.112582e+03 9.437325e-02\n",
      "\n",
      "$se\n",
      "[1] 119.89927450  90.57984533   0.07654949\n",
      "\n",
      "$conv\n",
      "[1] 0\n",
      "\n",
      "$nllh\n",
      "[1] 958.3228\n",
      "\n",
      "$mle\n",
      "[1] 2.511045e+03 1.107769e+03 8.062693e-02\n",
      "\n",
      "$se\n",
      "[1] 116.83312208  86.35185673   0.06446068\n",
      "\n"
     ]
    }
   ],
   "source": [
    "GFDL_stat = gev.fit(GFDL_maxQ$Uncontrolled)\n",
    "CCSM_stat = gev.fit(CCSM_maxQ$Uncontrolled)"
   ]
  },
  {
   "cell_type": "markdown",
   "metadata": {},
   "source": [
    "#### Non-Stationary\n",
    "\n",
    "##### Mean Only"
   ]
  },
  {
   "cell_type": "code",
   "execution_count": 6,
   "metadata": {},
   "outputs": [
    {
     "name": "stdout",
     "output_type": "stream",
     "text": [
      "$model\n",
      "$model[[1]]\n",
      "[1] 1\n",
      "\n",
      "$model[[2]]\n",
      "NULL\n",
      "\n",
      "$model[[3]]\n",
      "NULL\n",
      "\n",
      "\n",
      "$link\n",
      "[1] \"c(identity, identity, identity)\"\n",
      "\n",
      "$conv\n",
      "[1] 0\n",
      "\n",
      "$nllh\n",
      "[1] 959.9906\n",
      "\n",
      "$mle\n",
      "[1] 2151.6626956   -0.9039073 1105.0964484    0.1062951\n",
      "\n",
      "$se\n",
      "[1] 210.03387705   3.77930107  96.07343463   0.09184763\n",
      "\n"
     ]
    }
   ],
   "source": [
    "GFDL_mu = gev.fit(GFDL_maxQ$Uncontrolled, ti, mul=1)"
   ]
  },
  {
   "cell_type": "code",
   "execution_count": 7,
   "metadata": {},
   "outputs": [
    {
     "name": "stdout",
     "output_type": "stream",
     "text": [
      "[1] 0.05727497\n"
     ]
    }
   ],
   "source": [
    "D = 2*(-1* GFDL_mu$nllh - (-1*GFDL_stat$nllh))\n",
    "print(D)"
   ]
  },
  {
   "cell_type": "markdown",
   "metadata": {},
   "source": [
    "##### Sigma Only"
   ]
  },
  {
   "cell_type": "code",
   "execution_count": 8,
   "metadata": {},
   "outputs": [
    {
     "name": "stdout",
     "output_type": "stream",
     "text": [
      "$model\n",
      "$model[[1]]\n",
      "NULL\n",
      "\n",
      "$model[[2]]\n",
      "[1] 1\n",
      "\n",
      "$model[[3]]\n",
      "NULL\n",
      "\n",
      "\n",
      "$link\n",
      "[1] \"c(identity, identity, identity)\"\n",
      "\n",
      "$conv\n",
      "[1] 0\n",
      "\n",
      "$nllh\n",
      "[1] 946.6464\n",
      "\n",
      "$mle\n",
      "[1] 1.984560e+03 3.343471e+02 1.326844e+01 5.958865e-02\n",
      "\n",
      "$se\n",
      "[1] 89.77621168 89.33961546  2.36518718  0.08816877\n",
      "\n"
     ]
    },
    {
     "data": {
      "image/png": "[encoded data removed]",
      "text/plain": [
       "Plot with title \"Residual Quantile Plot (Gumbel Scale)\""
      ]
     },
     "metadata": {},
     "output_type": "display_data"
    }
   ],
   "source": [
    "GFDL_sigl = gev.fit(GFDL_maxQ$Uncontrolled, ti, sigl=1)\n",
    "gev.diag(GFDL_sigl)"
   ]
  },
  {
   "cell_type": "code",
   "execution_count": 9,
   "metadata": {},
   "outputs": [
    {
     "name": "stdout",
     "output_type": "stream",
     "text": [
      "[1] 26.74562\n"
     ]
    }
   ],
   "source": [
    "D = 2*(-1* GFDL_sigl$nllh - (-1*GFDL_stat$nllh))\n",
    "print(D)"
   ]
  },
  {
   "cell_type": "markdown",
   "metadata": {},
   "source": [
    "##### Shape parameter only"
   ]
  },
  {
   "cell_type": "code",
   "execution_count": 10,
   "metadata": {},
   "outputs": [
    {
     "name": "stdout",
     "output_type": "stream",
     "text": [
      "$model\n",
      "$model[[1]]\n",
      "NULL\n",
      "\n",
      "$model[[2]]\n",
      "NULL\n",
      "\n",
      "$model[[3]]\n",
      "[1] 1\n",
      "\n",
      "\n",
      "$link\n",
      "[1] \"c(identity, identity, identity)\"\n",
      "\n",
      "$conv\n",
      "[1] 0\n",
      "\n",
      "$nllh\n",
      "[1] 960.5439\n",
      "\n",
      "$mle\n",
      "[1]  2.179254e+03  1.244881e+03 -2.123711e-01  3.611651e-03\n",
      "\n",
      "$se\n",
      "[1] 1.439953e+02 1.159496e+02 2.568728e-01 3.196569e-03\n",
      "\n"
     ]
    },
    {
     "data": {
      "image/png": "[encoded data removed]",
      "text/plain": [
       "Plot with title \"Residual Quantile Plot (Gumbel Scale)\""
      ]
     },
     "metadata": {},
     "output_type": "display_data"
    }
   ],
   "source": [
    "GFDL_shl = gev.fit(GFDL_maxQ$Uncontrolled, ti, shl=1)\n",
    "gev.diag(GFDL_shl)"
   ]
  },
  {
   "cell_type": "code",
   "execution_count": 11,
   "metadata": {},
   "outputs": [
    {
     "name": "stdout",
     "output_type": "stream",
     "text": [
      "[1] -1.049438\n"
     ]
    }
   ],
   "source": [
    "D = 2*(-1* GFDL_shl$nllh - (-1*GFDL_stat$nllh))\n",
    "print(D)"
   ]
  },
  {
   "cell_type": "markdown",
   "metadata": {},
   "source": [
    "##### Mu and Sigma"
   ]
  },
  {
   "cell_type": "code",
   "execution_count": 12,
   "metadata": {},
   "outputs": [
    {
     "name": "stdout",
     "output_type": "stream",
     "text": [
      "$model\n",
      "$model[[1]]\n",
      "[1] 1\n",
      "\n",
      "$model[[2]]\n",
      "[1] 1\n",
      "\n",
      "$model[[3]]\n",
      "NULL\n",
      "\n",
      "\n",
      "$link\n",
      "[1] \"c(identity, identity, identity)\"\n",
      "\n",
      "$conv\n",
      "[1] 0\n",
      "\n",
      "$nllh\n",
      "[1] 943.6937\n",
      "\n",
      "$mle\n",
      "[1] 1.799579e+03 7.503924e+00 2.399742e+02 1.608698e+01 1.847428e-02\n",
      "\n",
      "$se\n",
      "[1] 98.81913359  3.07459826 78.95452662  2.41579919  0.08253497\n",
      "\n"
     ]
    },
    {
     "data": {
      "image/png": "[encoded data removed]",
      "text/plain": [
       "Plot with title \"Residual Quantile Plot (Gumbel Scale)\""
      ]
     },
     "metadata": {},
     "output_type": "display_data"
    }
   ],
   "source": [
    "GFDL_mu_sigl = gev.fit(GFDL_maxQ$Uncontrolled, ti, mul=1, sigl=1)\n",
    "gev.diag(GFDL_mu_sigl)"
   ]
  },
  {
   "cell_type": "code",
   "execution_count": 13,
   "metadata": {},
   "outputs": [
    {
     "name": "stdout",
     "output_type": "stream",
     "text": [
      "[1] 32.651\n"
     ]
    }
   ],
   "source": [
    "D = 2*(-1* GFDL_mu_sigl$nllh - (-1*GFDL_stat$nllh))\n",
    "print(D)"
   ]
  },
  {
   "cell_type": "markdown",
   "metadata": {},
   "source": [
    "##### All 3"
   ]
  },
  {
   "cell_type": "code",
   "execution_count": 14,
   "metadata": {},
   "outputs": [
    {
     "name": "stderr",
     "output_type": "stream",
     "text": [
      "Warning message in sqrt(diag(z$cov)):\n",
      "\"NaNs produced\""
     ]
    },
    {
     "name": "stdout",
     "output_type": "stream",
     "text": [
      "$model\n",
      "$model[[1]]\n",
      "[1] 1\n",
      "\n",
      "$model[[2]]\n",
      "[1] 1\n",
      "\n",
      "$model[[3]]\n",
      "[1] 1\n",
      "\n",
      "\n",
      "$link\n",
      "[1] \"c(identity, identity, identity)\"\n",
      "\n",
      "$conv\n",
      "[1] 0\n",
      "\n",
      "$nllh\n",
      "[1] 960.352\n",
      "\n",
      "$mle\n",
      "[1]  2.179532e+03  4.764641e-01  1.244104e+03  1.089916e+00 -2.128561e-01\n",
      "[6]  3.346474e-03\n",
      "\n",
      "$se\n",
      "[1] 3.194807e+02 5.049361e+00          NaN          NaN 1.544807e-01\n",
      "[6] 2.008725e-03\n",
      "\n"
     ]
    },
    {
     "data": {
      "image/png": "[encoded data removed]",
      "text/plain": [
       "Plot with title \"Residual Quantile Plot (Gumbel Scale)\""
      ]
     },
     "metadata": {},
     "output_type": "display_data"
    }
   ],
   "source": [
    "GFDL_mu_sigl_shl = gev.fit(GFDL_maxQ$Uncontrolled, ti, mul=1, sigl=1, shl =1)\n",
    "gev.diag(GFDL_mu_sigl_shl)"
   ]
  },
  {
   "cell_type": "code",
   "execution_count": 15,
   "metadata": {},
   "outputs": [
    {
     "name": "stdout",
     "output_type": "stream",
     "text": [
      "[1] -0.6656009\n"
     ]
    }
   ],
   "source": [
    "D = 2*(-1* GFDL_mu_sigl_shl$nllh - (-1*GFDL_stat$nllh))\n",
    "print(D)"
   ]
  },
  {
   "cell_type": "code",
   "execution_count": 16,
   "metadata": {},
   "outputs": [
    {
     "name": "stdout",
     "output_type": "stream",
     "text": [
      "[1] 5.905384\n"
     ]
    }
   ],
   "source": [
    "D = 2*(-1* GFDL_mu_sigl$nllh - (-1*GFDL_sigl$nllh))\n",
    "print(D)"
   ]
  },
  {
   "cell_type": "markdown",
   "metadata": {},
   "source": [
    "Best GFDL model is mu and sigma as a function of time. \n",
    "\n",
    "#### Same Process for CCSM "
   ]
  },
  {
   "cell_type": "code",
   "execution_count": 17,
   "metadata": {},
   "outputs": [
    {
     "name": "stdout",
     "output_type": "stream",
     "text": [
      "$model\n",
      "$model[[1]]\n",
      "[1] 1\n",
      "\n",
      "$model[[2]]\n",
      "NULL\n",
      "\n",
      "$model[[3]]\n",
      "NULL\n",
      "\n",
      "\n",
      "$link\n",
      "[1] \"c(identity, identity, identity)\"\n",
      "\n",
      "$conv\n",
      "[1] 0\n",
      "\n",
      "$nllh\n",
      "[1] 950.3364\n",
      "\n",
      "$mle\n",
      "[1] 1.867272e+03 1.324603e+01 1.072741e+03 2.288384e-02\n",
      "\n",
      "$se\n",
      "[1] 206.12195490   3.37766910  79.58310361   0.05476349\n",
      "\n",
      "[1] 15.97285\n"
     ]
    }
   ],
   "source": [
    "CCSM_mu = gev.fit(CCSM_maxQ$Uncontrolled, ti, mul=1)\n",
    "D = 2*(-1* CCSM_mu$nllh - (-1*CCSM_stat$nllh))\n",
    "print(D)"
   ]
  },
  {
   "cell_type": "code",
   "execution_count": 18,
   "metadata": {},
   "outputs": [
    {
     "name": "stdout",
     "output_type": "stream",
     "text": [
      "$model\n",
      "$model[[1]]\n",
      "[1] 1\n",
      "\n",
      "$model[[2]]\n",
      "[1] 1\n",
      "\n",
      "$model[[3]]\n",
      "NULL\n",
      "\n",
      "\n",
      "$link\n",
      "[1] \"c(identity, identity, identity)\"\n",
      "\n",
      "$conv\n",
      "[1] 0\n",
      "\n",
      "$nllh\n",
      "[1] 939.4757\n",
      "\n",
      "$mle\n",
      "[1]  1.705151e+03  1.688964e+01  2.924119e+02  1.459836e+01 -2.793359e-03\n",
      "\n",
      "$se\n",
      "[1] 106.16517845   2.96923627 103.04084114   2.75005177   0.04388695\n",
      "\n",
      "[1] 37.69413\n"
     ]
    }
   ],
   "source": [
    "CCSM_mu_sigl = gev.fit(CCSM_maxQ$Uncontrolled, ti, mul=1, sigl=1)\n",
    "D = 2*(-1* CCSM_mu_sigl$nllh - (-1*CCSM_stat$nllh))\n",
    "print(D)"
   ]
  },
  {
   "cell_type": "code",
   "execution_count": 19,
   "metadata": {},
   "outputs": [
    {
     "name": "stdout",
     "output_type": "stream",
     "text": [
      "[1] 21.72129\n"
     ]
    }
   ],
   "source": [
    "D = 2*(-1* CCSM_mu_sigl$nllh - (-1*CCSM_mu$nllh))\n",
    "print(D)"
   ]
  },
  {
   "cell_type": "code",
   "execution_count": 20,
   "metadata": {},
   "outputs": [
    {
     "name": "stderr",
     "output_type": "stream",
     "text": [
      "Warning message in sqrt(diag(z$cov)):\n",
      "\"NaNs produced\""
     ]
    },
    {
     "name": "stdout",
     "output_type": "stream",
     "text": [
      "$model\n",
      "$model[[1]]\n",
      "[1] 1\n",
      "\n",
      "$model[[2]]\n",
      "[1] 1\n",
      "\n",
      "$model[[3]]\n",
      "[1] 1\n",
      "\n",
      "\n",
      "$link\n",
      "[1] \"c(identity, identity, identity)\"\n",
      "\n",
      "$conv\n",
      "[1] 0\n",
      "\n",
      "$nllh\n",
      "[1] 957.186\n",
      "\n",
      "$mle\n",
      "[1]  2.584005e+03  4.138640e+00  1.264731e+03 -2.715746e-01  1.211591e-01\n",
      "[6] -1.249445e-03\n",
      "\n",
      "$se\n",
      "[1] NaN NaN NaN NaN NaN NaN\n",
      "\n",
      "[1] 2.273604\n"
     ]
    }
   ],
   "source": [
    "CCSM_mu_sigl_shl = gev.fit(CCSM_maxQ$Uncontrolled, ti, mul=1, sigl=1, shl=1)\n",
    "D = 2*(-1* CCSM_mu_sigl_shl$nllh - (-1*CCSM_stat$nllh))\n",
    "print(D)"
   ]
  },
  {
   "cell_type": "markdown",
   "metadata": {},
   "source": [
    "Best model for CCSM is also non-stationary with mu and sigma as a function of time. \n",
    "\n",
    "\n",
    "### Fit Models"
   ]
  },
  {
   "cell_type": "code",
   "execution_count": 21,
   "metadata": {},
   "outputs": [
    {
     "name": "stdout",
     "output_type": "stream",
     "text": [
      "[1] \"Hydropower\"\n",
      "$model\n",
      "$model[[1]]\n",
      "[1] 1\n",
      "\n",
      "$model[[2]]\n",
      "[1] 1\n",
      "\n",
      "$model[[3]]\n",
      "NULL\n",
      "\n",
      "\n",
      "$link\n",
      "[1] \"c(identity, identity, identity)\"\n",
      "\n",
      "$conv\n",
      "[1] 0\n",
      "\n",
      "$nllh\n",
      "[1] 940.784\n",
      "\n",
      "$mle\n",
      "[1] 1766.4326571   -1.5306600  824.9368023    2.4995178    0.1132428\n",
      "\n",
      "$se\n",
      "[1] 208.18732172   3.49338019 172.22906565   2.90745919   0.08618268\n",
      "\n",
      "$model\n",
      "$model[[1]]\n",
      "[1] 1\n",
      "\n",
      "$model[[2]]\n",
      "[1] 1\n",
      "\n",
      "$model[[3]]\n",
      "NULL\n",
      "\n",
      "\n",
      "$link\n",
      "[1] \"c(identity, identity, identity)\"\n",
      "\n",
      "$conv\n",
      "[1] 0\n",
      "\n",
      "$nllh\n",
      "[1] 937.9714\n",
      "\n",
      "$mle\n",
      "[1]  1.144186e+03  2.016012e+01  4.958731e+02  9.317703e+00 -9.622856e-03\n",
      "\n",
      "$se\n",
      "[1] 140.56588928   3.08095314  97.87398959   2.40416438   0.07025501\n",
      "\n",
      "[1] \"Environment\"\n",
      "$model\n",
      "$model[[1]]\n",
      "[1] 1\n",
      "\n",
      "$model[[2]]\n",
      "[1] 1\n",
      "\n",
      "$model[[3]]\n",
      "NULL\n",
      "\n",
      "\n",
      "$link\n",
      "[1] \"c(identity, identity, identity)\"\n",
      "\n",
      "$conv\n",
      "[1] 0\n",
      "\n",
      "$nllh\n",
      "[1] 874.5339\n",
      "\n",
      "$mle\n",
      "[1] 1300.6284664    1.1862105  170.8345968    6.6695240    0.1645591\n",
      "\n",
      "$se\n",
      "[1] 66.00518550  1.69554503 56.70636348  1.45551616  0.06491029\n",
      "\n",
      "$model\n",
      "$model[[1]]\n",
      "[1] 1\n",
      "\n",
      "$model[[2]]\n",
      "[1] 1\n",
      "\n",
      "$model[[3]]\n",
      "NULL\n",
      "\n",
      "\n",
      "$link\n",
      "[1] \"c(identity, identity, identity)\"\n",
      "\n",
      "$conv\n",
      "[1] 0\n",
      "\n",
      "$nllh\n",
      "[1] 879.7439\n",
      "\n",
      "$mle\n",
      "[1] 1139.1999410   16.5053029   75.9916752    9.4233301    0.2036563\n",
      "\n",
      "$se\n",
      "[1] 40.64198953  1.56782812 32.44499215  1.28213732  0.08283237\n",
      "\n",
      "[1] \"Recession\"\n",
      "$model\n",
      "$model[[1]]\n",
      "[1] 1\n",
      "\n",
      "$model[[2]]\n",
      "[1] 1\n",
      "\n",
      "$model[[3]]\n",
      "NULL\n",
      "\n",
      "\n",
      "$link\n",
      "[1] \"c(identity, identity, identity)\"\n",
      "\n",
      "$conv\n",
      "[1] 0\n",
      "\n",
      "$nllh\n",
      "[1] 884.8664\n",
      "\n",
      "$mle\n",
      "[1] 1354.1194780   -0.6970654  194.5204091    7.4116795    0.1238218\n",
      "\n",
      "$se\n",
      "[1] 73.13182593  1.87585932 62.37601709  1.60390322  0.07167546\n",
      "\n",
      "$model\n",
      "$model[[1]]\n",
      "[1] 1\n",
      "\n",
      "$model[[2]]\n",
      "[1] 1\n",
      "\n",
      "$model[[3]]\n",
      "NULL\n",
      "\n",
      "\n",
      "$link\n",
      "[1] \"c(identity, identity, identity)\"\n",
      "\n",
      "$conv\n",
      "[1] 0\n",
      "\n",
      "$nllh\n",
      "[1] 877.8521\n",
      "\n",
      "$mle\n",
      "[1] 1204.13704451   15.62461409  110.59755580    9.98427120   -0.04276101\n",
      "\n",
      "$se\n",
      "[1] 50.52161687  1.71754059 45.20461291  1.41727152  0.06206583\n",
      "\n",
      "[1] \"Cotton\"\n",
      "$model\n",
      "$model[[1]]\n",
      "[1] 1\n",
      "\n",
      "$model[[2]]\n",
      "[1] 1\n",
      "\n",
      "$model[[3]]\n",
      "NULL\n",
      "\n",
      "\n",
      "$link\n",
      "[1] \"c(identity, identity, identity)\"\n",
      "\n",
      "$conv\n",
      "[1] 0\n",
      "\n",
      "$nllh\n",
      "[1] 899.8457\n",
      "\n",
      "$mle\n",
      "[1] 1.537883e+03 4.993647e-01 1.841198e+02 1.017842e+01 2.512878e-02\n",
      "\n",
      "$se\n",
      "[1] 76.91854502  2.15941047 74.12363349  1.92796288  0.09082989\n",
      "\n"
     ]
    },
    {
     "name": "stderr",
     "output_type": "stream",
     "text": [
      "Warning message in sqrt(diag(z$cov)):\n",
      "\"NaNs produced\""
     ]
    },
    {
     "name": "stdout",
     "output_type": "stream",
     "text": [
      "$model\n",
      "$model[[1]]\n",
      "[1] 1\n",
      "\n",
      "$model[[2]]\n",
      "[1] 1\n",
      "\n",
      "$model[[3]]\n",
      "NULL\n",
      "\n",
      "\n",
      "$link\n",
      "[1] \"c(identity, identity, identity)\"\n",
      "\n",
      "$conv\n",
      "[1] 0\n",
      "\n",
      "$nllh\n",
      "[1] 925.5612\n",
      "\n",
      "$mle\n",
      "[1] 2036.2030164    7.5314305 1079.0311970   -0.9153482   -0.1699178\n",
      "\n",
      "$se\n",
      "[1] NaN NaN NaN NaN NaN\n",
      "\n",
      "[1] \"Sugar\"\n",
      "$model\n",
      "$model[[1]]\n",
      "[1] 1\n",
      "\n",
      "$model[[2]]\n",
      "[1] 1\n",
      "\n",
      "$model[[3]]\n",
      "NULL\n",
      "\n",
      "\n",
      "$link\n",
      "[1] \"c(identity, identity, identity)\"\n",
      "\n",
      "$conv\n",
      "[1] 0\n",
      "\n",
      "$nllh\n",
      "[1] 907.9728\n",
      "\n",
      "$mle\n",
      "[1] 1.332548e+03 6.296675e-01 4.012279e+02 5.967154e+00 6.040759e-02\n",
      "\n",
      "$se\n",
      "[1] 111.4415228   2.3425485  84.6607433   1.9337216   0.0914539\n",
      "\n",
      "$model\n",
      "$model[[1]]\n",
      "[1] 1\n",
      "\n",
      "$model[[2]]\n",
      "[1] 1\n",
      "\n",
      "$model[[3]]\n",
      "NULL\n",
      "\n",
      "\n",
      "$link\n",
      "[1] \"c(identity, identity, identity)\"\n",
      "\n",
      "$conv\n",
      "[1] 0\n",
      "\n",
      "$nllh\n",
      "[1] 905.6733\n",
      "\n",
      "$mle\n",
      "[1] 1170.56610342   17.12331925  369.76671706    7.35791559   -0.02362724\n",
      "\n",
      "$se\n",
      "[1] 106.87953765   2.30629185 101.35989033   2.13080781   0.04551234\n",
      "\n",
      "[1] \"Uncontrolled\"\n",
      "$model\n",
      "$model[[1]]\n",
      "[1] 1\n",
      "\n",
      "$model[[2]]\n",
      "[1] 1\n",
      "\n",
      "$model[[3]]\n",
      "NULL\n",
      "\n",
      "\n",
      "$link\n",
      "[1] \"c(identity, identity, identity)\"\n",
      "\n",
      "$conv\n",
      "[1] 0\n",
      "\n",
      "$nllh\n",
      "[1] 943.6937\n",
      "\n",
      "$mle\n",
      "[1] 1.799579e+03 7.503924e+00 2.399742e+02 1.608698e+01 1.847428e-02\n",
      "\n",
      "$se\n",
      "[1] 98.81913359  3.07459826 78.95452662  2.41579919  0.08253497\n",
      "\n",
      "$model\n",
      "$model[[1]]\n",
      "[1] 1\n",
      "\n",
      "$model[[2]]\n",
      "[1] 1\n",
      "\n",
      "$model[[3]]\n",
      "NULL\n",
      "\n",
      "\n",
      "$link\n",
      "[1] \"c(identity, identity, identity)\"\n",
      "\n",
      "$conv\n",
      "[1] 0\n",
      "\n",
      "$nllh\n",
      "[1] 939.4757\n",
      "\n",
      "$mle\n",
      "[1]  1.705151e+03  1.688964e+01  2.924119e+02  1.459836e+01 -2.793359e-03\n",
      "\n",
      "$se\n",
      "[1] 106.16517845   2.96923627 103.04084114   2.75005177   0.04388695\n",
      "\n"
     ]
    }
   ],
   "source": [
    "GFDL = list()\n",
    "CCSM = list()\n",
    "Objectives = list(\"Hydropower\", \"Environment\", \"Recession\", \"Cotton\", \"Sugar\",\"Uncontrolled\")\n",
    "for(o in Objectives){\n",
    "    print(o)\n",
    "    a = gev.fit(as.numeric(unlist(GFDL_maxQ[o])), ti, mul=1, sigl=1)\n",
    "    GFDL[[o]] = a$mle \n",
    "    b = gev.fit(as.numeric(unlist(CCSM_maxQ[o])), ti, mul=1, sigl=1)\n",
    "    CCSM[[o]] = b$mle \n",
    "\n",
    "} "
   ]
  },
  {
   "cell_type": "markdown",
   "metadata": {},
   "source": [
    "### Calculate Mu and Sigma over time"
   ]
  },
  {
   "cell_type": "code",
   "execution_count": 22,
   "metadata": {},
   "outputs": [],
   "source": [
    "GFDL_mus = list()\n",
    "CCSM_mus = list()\n",
    "\n",
    "for(o in Objectives){\n",
    "    i = seq(1989, 2099, 1)\n",
    "    mus = lapply(i, function(x) GFDL[[o]][1] + GFDL[[o]][2]*(x - 1989 + 1))\n",
    "    GFDL_mus[[o]] = mus\n",
    "    mus = lapply(i, function(x) CCSM[[o]][1] + CCSM[[o]][2]*(x - 1989 + 1))\n",
    "    CCSM_mus[[o]] = mus\n",
    "}"
   ]
  },
  {
   "cell_type": "code",
   "execution_count": 23,
   "metadata": {},
   "outputs": [],
   "source": [
    "GFDL_sigs = list()\n",
    "CCSM_sigs = list()\n",
    "for(o in Objectives){\n",
    "    i = seq(1989, 2099, 1)\n",
    "    sigs = lapply(i, function(x) GFDL[[o]][3] + GFDL[[o]][4]*(x - 1989 + 1))\n",
    "    GFDL_sigs[[o]] = sigs\n",
    "    sigs = lapply(i, function(x) CCSM[[o]][3] + CCSM[[o]][4]*(x - 1989 + 1))\n",
    "    CCSM_sigs[[o]] = sigs\n",
    "}"
   ]
  },
  {
   "cell_type": "code",
   "execution_count": 24,
   "metadata": {},
   "outputs": [
    {
     "ename": "ERROR",
     "evalue": "Error in ggplot(): could not find function \"ggplot\"\n",
     "output_type": "error",
     "traceback": [
      "Error in ggplot(): could not find function \"ggplot\"\nTraceback:\n"
     ]
    }
   ],
   "source": [
    "ggplot() + geom_line(aes(x=c(seq(1989, 2099)), y =as.numeric(unlist(CCSM_mus$Hydropower)), color=\"Hydropower\")) +\n",
    "geom_line(aes(x=c(seq(1989, 2099)), y =as.numeric(unlist(GFDL_mus$Hydropower)), color=\"Hydropower\"),lty=\"dashed\") + \n",
    "geom_line(aes(x=c(seq(1989, 2099)), y =as.numeric(unlist(CCSM_mus$Environment)), color=\"Environment\")) +\n",
    "geom_line(aes(x=c(seq(1989, 2099)), y =as.numeric(unlist(GFDL_mus$Environment)), color=\"Environment\"),lty=\"dashed\") + \n",
    "geom_line(aes(x=c(seq(1989, 2099)), y =as.numeric(unlist(CCSM_mus$Recession)), color=\"Recession\")) +\n",
    "geom_line(aes(x=c(seq(1989, 2099)), y =as.numeric(unlist(GFDL_mus$Recession)), color=\"Recession\"),lty=\"dashed\") + \n",
    "geom_line(aes(x=c(seq(1989, 2099)), y =as.numeric(unlist(CCSM_mus$Sugar)), color=\"Sugar\")) +\n",
    "geom_line(aes(x=c(seq(1989, 2099)), y =as.numeric(unlist(GFDL_mus$Sugar)), color=\"Sugar\"), lty=\"dashed\") + \n",
    "geom_line(aes(x=c(seq(1989, 2099)), y =as.numeric(unlist(CCSM_mus$Cotton)), color=\"Cotton\")) +\n",
    "geom_line(aes(x=c(seq(1989, 2099)), y =as.numeric(unlist(GFDL_mus$Cotton)), color=\"Cotton\"), lty=\"dashed\") + \n",
    "geom_line(aes(x=c(seq(1989, 2099)), y =as.numeric(unlist(CCSM_mus$Uncontrolled)), color=\"Uncontrolled\")) +\n",
    "geom_line(aes(x=c(seq(1989, 2099)), y =as.numeric(unlist(GFDL_mus$Uncontrolled)), color=\"Uncontrolled\"), lty=\"dashed\") + \n",
    "scale_color_manual(values = c(\"Hydropower\" = \"grey\", \n",
    "                             \"Environment\" = \"green\", \n",
    "                             \"Recession\" = \"blue\", \n",
    "                             \"Sugar\" = \"purple\", \n",
    "                             \"Cotton\" = \"orange\",\n",
    "                             \"Uncontrolled\" = \"black\"))+ \n",
    "labs(color='Legend') +\n",
    "ylab(\"Mu\") +\n",
    "xlab(\"Year\")"
   ]
  },
  {
   "cell_type": "code",
   "execution_count": 25,
   "metadata": {},
   "outputs": [
    {
     "ename": "ERROR",
     "evalue": "Error in ggplot(): could not find function \"ggplot\"\n",
     "output_type": "error",
     "traceback": [
      "Error in ggplot(): could not find function \"ggplot\"\nTraceback:\n"
     ]
    }
   ],
   "source": [
    "ggplot() + geom_line(aes(x=c(seq(1989, 2099)), y =as.numeric(unlist(CCSM_sigs$Hydropower)), color=\"Hydropower\")) +\n",
    "geom_line(aes(x=c(seq(1989, 2099)), y =as.numeric(unlist(GFDL_sigs$Hydropower)), color=\"Hydropower\"),lty=\"dashed\") + \n",
    "geom_line(aes(x=c(seq(1989, 2099)), y =as.numeric(unlist(CCSM_sigs$Environment)), color=\"Environment\")) +\n",
    "geom_line(aes(x=c(seq(1989, 2099)), y =as.numeric(unlist(GFDL_sigs$Environment)), color=\"Environment\"),lty=\"dashed\") + \n",
    "geom_line(aes(x=c(seq(1989, 2099)), y =as.numeric(unlist(CCSM_sigs$Recession)), color=\"Recession\")) +\n",
    "geom_line(aes(x=c(seq(1989, 2099)), y =as.numeric(unlist(GFDL_sigs$Recession)), color=\"Recession\"),lty=\"dashed\") + \n",
    "geom_line(aes(x=c(seq(1989, 2099)), y =as.numeric(unlist(CCSM_sigs$Sugar)), color=\"Sugar\")) +\n",
    "geom_line(aes(x=c(seq(1989, 2099)), y =as.numeric(unlist(GFDL_sigs$Sugar)), color=\"Sugar\"), lty=\"dashed\") + \n",
    "geom_line(aes(x=c(seq(1989, 2099)), y =as.numeric(unlist(CCSM_sigs$Cotton)), color=\"Cotton\")) +\n",
    "geom_line(aes(x=c(seq(1989, 2099)), y =as.numeric(unlist(GFDL_sigs$Cotton)), color=\"Cotton\"), lty=\"dashed\") + \n",
    "geom_line(aes(x=c(seq(1989, 2099)), y =as.numeric(unlist(CCSM_sigs$Uncontrolled)), color=\"Uncontrolled\")) +\n",
    "geom_line(aes(x=c(seq(1989, 2099)), y =as.numeric(unlist(GFDL_sigs$Uncontrolled)), color=\"Uncontrolled\"), lty=\"dashed\") + \n",
    "scale_color_manual(values = c(\"Hydropower\" = \"grey\", \n",
    "                             \"Environment\" = \"green\", \n",
    "                             \"Recession\" = \"blue\", \n",
    "                             \"Sugar\" = \"purple\", \n",
    "                             \"Cotton\" = \"orange\",\n",
    "                             \"Uncontrolled\" = \"black\"))+ \n",
    "labs(color='Legend') +\n",
    "ylab(\"Sigma\") +\n",
    "xlab(\"Year\")"
   ]
  },
  {
   "cell_type": "code",
   "execution_count": 26,
   "metadata": {},
   "outputs": [
    {
     "name": "stdout",
     "output_type": "stream",
     "text": [
      "[1] 2000\n",
      "[1] \"Hydropower\"\n",
      "[1] 0.1132428\n",
      "[1] 854.931\n",
      "[1] 1748.065\n",
      "[1] 6908.923\n",
      "[1] 9456.967\n",
      " num 2000\n",
      "[1] 2025\n",
      "[1] \"Hydropower\"\n",
      "[1] 0.1132428\n",
      "[1] 917.419\n",
      "[1] 1709.798\n",
      "[1] 7247.87\n",
      "[1] 9982.153\n",
      " num 2025\n",
      "[1] 2050\n",
      "[1] \"Hydropower\"\n",
      "[1] 0.1132428\n",
      "[1] 979.9069\n",
      "[1] 1671.532\n",
      "[1] 7586.817\n",
      "[1] 10507.34\n",
      " num 2050\n",
      "[1] 2075\n",
      "[1] \"Hydropower\"\n",
      "[1] 0.1132428\n",
      "[1] 1042.395\n",
      "[1] 1633.265\n",
      "[1] 7925.764\n",
      "[1] 11032.53\n",
      " num 2075\n",
      "[1] 2099\n",
      "[1] \"Hydropower\"\n",
      "[1] 0.1132428\n",
      "[1] 1102.383\n",
      "[1] 1596.529\n",
      "[1] 8251.153\n",
      "[1] 11536.71\n",
      " num 2099\n",
      "[1] 2000\n",
      "[1] \"Environment\"\n",
      "[1] 0.1645591\n",
      "[1] 250.8689\n",
      "[1] 1314.863\n",
      "[1] 3040.379\n",
      "[1] 4028.689\n",
      " num 2000\n",
      "[1] 2025\n",
      "[1] \"Environment\"\n",
      "[1] 0.1645591\n",
      "[1] 417.607\n",
      "[1] 1344.518\n",
      "[1] 4216.885\n",
      "[1] 5862.068\n",
      " num 2025\n",
      "[1] 2050\n",
      "[1] \"Environment\"\n",
      "[1] 0.1645591\n",
      "[1] 584.3451\n",
      "[1] 1374.174\n",
      "[1] 5393.391\n",
      "[1] 7695.447\n",
      " num 2050\n",
      "[1] 2075\n",
      "[1] \"Environment\"\n",
      "[1] 0.1645591\n",
      "[1] 751.0832\n",
      "[1] 1403.829\n",
      "[1] 6569.897\n",
      "[1] 9528.826\n",
      " num 2075\n",
      "[1] 2099\n",
      "[1] \"Environment\"\n",
      "[1] 0.1645591\n",
      "[1] 911.1518\n",
      "[1] 1432.298\n",
      "[1] 7699.343\n",
      "[1] 11288.87\n",
      " num 2099\n",
      "[1] 2000\n",
      "[1] \"Recession\"\n",
      "[1] 0.1238218\n",
      "[1] 283.4606\n",
      "[1] 1345.755\n",
      "[1] 3102.895\n",
      "[1] 3997.699\n",
      " num 2000\n",
      "[1] 2025\n",
      "[1] \"Recession\"\n",
      "[1] 0.1238218\n",
      "[1] 468.7525\n",
      "[1] 1328.328\n",
      "[1] 4234.073\n",
      "[1] 5713.791\n",
      " num 2025\n",
      "[1] 2050\n",
      "[1] \"Recession\"\n",
      "[1] 0.1238218\n",
      "[1] 654.0445\n",
      "[1] 1310.901\n",
      "[1] 5365.251\n",
      "[1] 7429.883\n",
      " num 2050\n",
      "[1] 2075\n",
      "[1] \"Recession\"\n",
      "[1] 0.1238218\n",
      "[1] 839.3365\n",
      "[1] 1293.475\n",
      "[1] 6496.429\n",
      "[1] 9145.975\n",
      " num 2075\n",
      "[1] 2099\n",
      "[1] \"Recession\"\n",
      "[1] 0.1238218\n",
      "[1] 1017.217\n",
      "[1] 1276.745\n",
      "[1] 7582.36\n",
      "[1] 10793.42\n",
      " num 2099\n",
      "[1] 2000\n",
      "[1] \"Cotton\"\n",
      "[1] 0.02512878\n",
      "[1] 306.2608\n",
      "[1] 1543.875\n",
      "[1] 3037.38\n",
      "[1] 3603.47\n",
      " num 2000\n",
      "[1] 2025\n",
      "[1] \"Cotton\"\n",
      "[1] 0.02512878\n",
      "[1] 560.7213\n",
      "[1] 1556.359\n",
      "[1] 4290.76\n",
      "[1] 5327.193\n",
      " num 2025\n",
      "[1] 2050\n",
      "[1] \"Cotton\"\n",
      "[1] 0.02512878\n",
      "[1] 815.1818\n",
      "[1] 1568.843\n",
      "[1] 5544.14\n",
      "[1] 7050.916\n",
      " num 2050\n",
      "[1] 2075\n",
      "[1] \"Cotton\"\n",
      "[1] 0.02512878\n",
      "[1] 1069.642\n",
      "[1] 1581.328\n",
      "[1] 6797.52\n",
      "[1] 8774.639\n",
      " num 2075\n",
      "[1] 2099\n",
      "[1] \"Cotton\"\n",
      "[1] 0.02512878\n",
      "[1] 1313.924\n",
      "[1] 1593.312\n",
      "[1] 8000.765\n",
      "[1] 10429.41\n",
      " num 2099\n",
      "[1] 2000\n",
      "[1] \"Sugar\"\n",
      "[1] 0.06040759\n",
      "[1] 472.8337\n",
      "[1] 1340.104\n",
      "[1] 3847.475\n",
      "[1] 4905.475\n",
      " num 2000\n",
      "[1] 2025\n",
      "[1] \"Sugar\"\n",
      "[1] 0.06040759\n",
      "[1] 622.0126\n",
      "[1] 1355.846\n",
      "[1] 4654.291\n",
      "[1] 6046.09\n",
      " num 2025\n",
      "[1] 2050\n",
      "[1] \"Sugar\"\n",
      "[1] 0.06040759\n",
      "[1] 771.1914\n",
      "[1] 1371.588\n",
      "[1] 5461.107\n",
      "[1] 7186.704\n",
      " num 2050\n",
      "[1] 2075\n",
      "[1] \"Sugar\"\n",
      "[1] 0.06040759\n",
      "[1] 920.3702\n",
      "[1] 1387.329\n",
      "[1] 6267.923\n",
      "[1] 8327.319\n",
      " num 2075\n",
      "[1] 2099\n",
      "[1] \"Sugar\"\n",
      "[1] 0.06040759\n",
      "[1] 1063.582\n",
      "[1] 1402.441\n",
      "[1] 7042.466\n",
      "[1] 9422.309\n",
      " num 2099\n",
      "[1] 2000\n",
      "[1] \"Uncontrolled\"\n",
      "[1] 0.01847428\n",
      "[1] 433.0179\n",
      "[1] 1889.626\n",
      "[1] 3968.665\n",
      "[1] 4740.742\n",
      " num 2000\n",
      "[1] 2025\n",
      "[1] \"Uncontrolled\"\n",
      "[1] 0.01847428\n",
      "[1] 835.1924\n",
      "[1] 2077.224\n",
      "[1] 6087.214\n",
      "[1] 7576.373\n",
      " num 2025\n",
      "[1] 2050\n",
      "[1] \"Uncontrolled\"\n",
      "[1] 0.01847428\n",
      "[1] 1237.367\n",
      "[1] 2264.822\n",
      "[1] 8205.763\n",
      "[1] 10412.01\n",
      " num 2050\n",
      "[1] 2075\n",
      "[1] \"Uncontrolled\"\n",
      "[1] 0.01847428\n",
      "[1] 1639.541\n",
      "[1] 2452.42\n",
      "[1] 10324.31\n",
      "[1] 13247.64\n",
      " num 2075\n",
      "[1] 2099\n",
      "[1] \"Uncontrolled\"\n",
      "[1] 0.01847428\n",
      "[1] 2025.629\n",
      "[1] 2632.514\n",
      "[1] 12358.12\n",
      "[1] 15969.84\n",
      " num 2099\n"
     ]
    }
   ],
   "source": [
    "GFDL_returnPeriods = list()\n",
    "CCSM_returnPeriods = list()\n",
    "\n",
    "years = list(2000,2025, 2050, 2075, 2099)\n",
    "\n",
    "calcReturns = function(shape, scale, location){\n",
    "    q.100 = qgev(1-1/100, \n",
    "                shape =shape,\n",
    "                scale =scale,\n",
    "                location=location)\n",
    "    q.500 = qgev(1-1/500, \n",
    "            shape =shape,\n",
    "            scale =scale,\n",
    "            location=location)\n",
    "    return(list(\"q100\"=q.100, \"q500\"=q.500))\n",
    "}\n",
    "\n",
    "\n",
    "for(o in Objectives){\n",
    "    for(y in years){\n",
    "        print(y)\n",
    "        print(o)\n",
    "        shape = GFDL[[o]][5]\n",
    "        scale = as.numeric(unlist(GFDL_sigs[[o]][y - 1988]))\n",
    "        loc = as.numeric(unlist(GFDL_mus[[o]][y - 1988]))\n",
    "        print(shape)\n",
    "        print(scale)\n",
    "        print(loc)\n",
    "        values = calcReturns(shape, scale, loc)\n",
    "        print(values$q100)\n",
    "        print(values$q500)\n",
    "        GFDL_returnPeriods[[o]][str(y)] = values\n",
    "    }\n",
    "}"
   ]
  },
  {
   "cell_type": "code",
   "execution_count": 27,
   "metadata": {},
   "outputs": [],
   "source": [
    "hydro.df = data.frame(matrix(ncol=5, nrow=0))\n",
    "env.df = data.frame(matrix(ncol=5, nrow=0))\n",
    "rec.df = data.frame(matrix(ncol=5, nrow=0))\n",
    "sug.df = data.frame(matrix(ncol=5, nrow=0))\n",
    "cot.df = data.frame(matrix(ncol=5, nrow=0))\n",
    "uc.df = data.frame(matrix(ncol=5, nrow=0))\n",
    "\n",
    "# colnames(hydro.df) =c(\"Year\", \"GFDL.q100\", \"GFDL.q500\", \"CCSM.q100\", \"CCSM.q500\")\n",
    "\n",
    "\n",
    "returnPeriods = c(\"Hydropower\" = hydro.df, \"Environment\" = env.df, \"Recession\" = rec.df, \"Sugar\" = sug.df, \"Cotton\" = cot.df, \"Uncontrolled\" = uc.df)\n",
    "\n",
    "years = list(2000,2025, 2050, 2075, 2099)\n",
    "\n",
    "createDataFrame = function(o, df,years){\n",
    "    for(y in years){\n",
    "        shape = GFDL[[o]][5]\n",
    "        scale = as.numeric(unlist(GFDL_sigs[[o]][y - 1988]))\n",
    "        loc = as.numeric(unlist(GFDL_mus[[o]][y - 1988]))\n",
    "        GFDLvalues = calcReturns(shape, scale, loc)\n",
    "        shape = CCSM[[o]][5]\n",
    "        scale = as.numeric(unlist(CCSM_sigs[[o]][y - 1988]))\n",
    "        loc = as.numeric(unlist(CCSM_mus[[o]][y - 1988]))\n",
    "        CCSMvalues = calcReturns(shape, scale, loc)\n",
    "\n",
    "        values = c(y, GFDLvalues$q100, GFDLvalues$q500, CCSMvalues$q100, CCSMvalues$q500)\n",
    "        df = rbind(df, values)\n",
    "        \n",
    "}\n",
    "    colnames(df) = c(\"Year\", \"GFDL.q100\", \"GFDL.q500\", \"CCSM.q100\", \"CCSM.q500\")\n",
    "    return(df)\n",
    "}\n",
    "\n",
    "\n"
   ]
  },
  {
   "cell_type": "code",
   "execution_count": 28,
   "metadata": {},
   "outputs": [],
   "source": [
    "hydro.df  = createDataFrame('Hydropower', hydro.df,years)\n",
    "env.df = createDataFrame('Environment', env.df,years)\n",
    "rec.df = createDataFrame('Recession', rec.df,years)\n",
    "sug.df = createDataFrame('Sugar', sug.df,years)\n",
    "cot.df = createDataFrame('Cotton', cot.df,years)\n",
    "uc.df = createDataFrame('Uncontrolled', uc.df,years)\n"
   ]
  },
  {
   "cell_type": "code",
   "execution_count": 29,
   "metadata": {},
   "outputs": [
    {
     "data": {
      "text/html": [
       "<table>\n",
       "<thead><tr><th scope=col>Year</th><th scope=col>GFDL.q100</th><th scope=col>GFDL.q500</th><th scope=col>CCSM.q100</th><th scope=col>CCSM.q500</th></tr></thead>\n",
       "<tbody>\n",
       "\t<tr><td>2000     </td><td>3040.379 </td><td> 4028.689</td><td> 2778.052</td><td> 3699.684</td></tr>\n",
       "\t<tr><td>2025     </td><td>4216.885 </td><td> 5862.068</td><td> 4985.908</td><td> 7055.892</td></tr>\n",
       "\t<tr><td>2050     </td><td>5393.391 </td><td> 7695.447</td><td> 7193.763</td><td>10412.100</td></tr>\n",
       "\t<tr><td>2075     </td><td>6569.897 </td><td> 9528.826</td><td> 9401.618</td><td>13768.308</td></tr>\n",
       "\t<tr><td>2099     </td><td>7699.343 </td><td>11288.870</td><td>11521.159</td><td>16990.268</td></tr>\n",
       "</tbody>\n",
       "</table>\n"
      ],
      "text/latex": [
       "\\begin{tabular}{r|lllll}\n",
       " Year & GFDL.q100 & GFDL.q500 & CCSM.q100 & CCSM.q500\\\\\n",
       "\\hline\n",
       "\t 2000      & 3040.379  &  4028.689 &  2778.052 &  3699.684\\\\\n",
       "\t 2025      & 4216.885  &  5862.068 &  4985.908 &  7055.892\\\\\n",
       "\t 2050      & 5393.391  &  7695.447 &  7193.763 & 10412.100\\\\\n",
       "\t 2075      & 6569.897  &  9528.826 &  9401.618 & 13768.308\\\\\n",
       "\t 2099      & 7699.343  & 11288.870 & 11521.159 & 16990.268\\\\\n",
       "\\end{tabular}\n"
      ],
      "text/markdown": [
       "\n",
       "| Year | GFDL.q100 | GFDL.q500 | CCSM.q100 | CCSM.q500 |\n",
       "|---|---|---|---|---|\n",
       "| 2000      | 3040.379  |  4028.689 |  2778.052 |  3699.684 |\n",
       "| 2025      | 4216.885  |  5862.068 |  4985.908 |  7055.892 |\n",
       "| 2050      | 5393.391  |  7695.447 |  7193.763 | 10412.100 |\n",
       "| 2075      | 6569.897  |  9528.826 |  9401.618 | 13768.308 |\n",
       "| 2099      | 7699.343  | 11288.870 | 11521.159 | 16990.268 |\n",
       "\n"
      ],
      "text/plain": [
       "  Year GFDL.q100 GFDL.q500 CCSM.q100 CCSM.q500\n",
       "1 2000 3040.379   4028.689  2778.052  3699.684\n",
       "2 2025 4216.885   5862.068  4985.908  7055.892\n",
       "3 2050 5393.391   7695.447  7193.763 10412.100\n",
       "4 2075 6569.897   9528.826  9401.618 13768.308\n",
       "5 2099 7699.343  11288.870 11521.159 16990.268"
      ]
     },
     "metadata": {},
     "output_type": "display_data"
    }
   ],
   "source": [
    "env.df"
   ]
  },
  {
   "cell_type": "code",
   "execution_count": 30,
   "metadata": {},
   "outputs": [
    {
     "data": {
      "text/html": [
       "<table>\n",
       "<thead><tr><th scope=col>Year</th><th scope=col>GFDL.q100</th><th scope=col>GFDL.q500</th><th scope=col>CCSM.q100</th><th scope=col>CCSM.q500</th></tr></thead>\n",
       "<tbody>\n",
       "\t<tr><td>2000     </td><td>3102.895 </td><td> 3997.699</td><td>2353.813 </td><td>2648.888 </td></tr>\n",
       "\t<tr><td>2025     </td><td>4234.073 </td><td> 5713.791</td><td>3786.779 </td><td>4401.515 </td></tr>\n",
       "\t<tr><td>2050     </td><td>5365.251 </td><td> 7429.883</td><td>5219.745 </td><td>6154.142 </td></tr>\n",
       "\t<tr><td>2075     </td><td>6496.429 </td><td> 9145.975</td><td>6652.711 </td><td>7906.769 </td></tr>\n",
       "\t<tr><td>2099     </td><td>7582.360 </td><td>10793.423</td><td>8028.359 </td><td>9589.291 </td></tr>\n",
       "</tbody>\n",
       "</table>\n"
      ],
      "text/latex": [
       "\\begin{tabular}{r|lllll}\n",
       " Year & GFDL.q100 & GFDL.q500 & CCSM.q100 & CCSM.q500\\\\\n",
       "\\hline\n",
       "\t 2000      & 3102.895  &  3997.699 & 2353.813  & 2648.888 \\\\\n",
       "\t 2025      & 4234.073  &  5713.791 & 3786.779  & 4401.515 \\\\\n",
       "\t 2050      & 5365.251  &  7429.883 & 5219.745  & 6154.142 \\\\\n",
       "\t 2075      & 6496.429  &  9145.975 & 6652.711  & 7906.769 \\\\\n",
       "\t 2099      & 7582.360  & 10793.423 & 8028.359  & 9589.291 \\\\\n",
       "\\end{tabular}\n"
      ],
      "text/markdown": [
       "\n",
       "| Year | GFDL.q100 | GFDL.q500 | CCSM.q100 | CCSM.q500 |\n",
       "|---|---|---|---|---|\n",
       "| 2000      | 3102.895  |  3997.699 | 2353.813  | 2648.888  |\n",
       "| 2025      | 4234.073  |  5713.791 | 3786.779  | 4401.515  |\n",
       "| 2050      | 5365.251  |  7429.883 | 5219.745  | 6154.142  |\n",
       "| 2075      | 6496.429  |  9145.975 | 6652.711  | 7906.769  |\n",
       "| 2099      | 7582.360  | 10793.423 | 8028.359  | 9589.291  |\n",
       "\n"
      ],
      "text/plain": [
       "  Year GFDL.q100 GFDL.q500 CCSM.q100 CCSM.q500\n",
       "1 2000 3102.895   3997.699 2353.813  2648.888 \n",
       "2 2025 4234.073   5713.791 3786.779  4401.515 \n",
       "3 2050 5365.251   7429.883 5219.745  6154.142 \n",
       "4 2075 6496.429   9145.975 6652.711  7906.769 \n",
       "5 2099 7582.360  10793.423 8028.359  9589.291 "
      ]
     },
     "metadata": {},
     "output_type": "display_data"
    }
   ],
   "source": [
    "rec.df"
   ]
  },
  {
   "cell_type": "code",
   "execution_count": 31,
   "metadata": {},
   "outputs": [
    {
     "data": {
      "text/html": [
       "<table>\n",
       "<thead><tr><th scope=col>Year</th><th scope=col>GFDL.q100</th><th scope=col>GFDL.q500</th><th scope=col>CCSM.q100</th><th scope=col>CCSM.q500</th></tr></thead>\n",
       "<tbody>\n",
       "\t<tr><td>2000    </td><td>3847.475</td><td>4905.475</td><td>3372.725</td><td>4023.194</td></tr>\n",
       "\t<tr><td>2025    </td><td>4654.291</td><td>6046.090</td><td>4602.631</td><td>5514.316</td></tr>\n",
       "\t<tr><td>2050    </td><td>5461.107</td><td>7186.704</td><td>5832.538</td><td>7005.438</td></tr>\n",
       "\t<tr><td>2075    </td><td>6267.923</td><td>8327.319</td><td>7062.445</td><td>8496.559</td></tr>\n",
       "\t<tr><td>2099    </td><td>7042.466</td><td>9422.309</td><td>8243.156</td><td>9928.036</td></tr>\n",
       "</tbody>\n",
       "</table>\n"
      ],
      "text/latex": [
       "\\begin{tabular}{r|lllll}\n",
       " Year & GFDL.q100 & GFDL.q500 & CCSM.q100 & CCSM.q500\\\\\n",
       "\\hline\n",
       "\t 2000     & 3847.475 & 4905.475 & 3372.725 & 4023.194\\\\\n",
       "\t 2025     & 4654.291 & 6046.090 & 4602.631 & 5514.316\\\\\n",
       "\t 2050     & 5461.107 & 7186.704 & 5832.538 & 7005.438\\\\\n",
       "\t 2075     & 6267.923 & 8327.319 & 7062.445 & 8496.559\\\\\n",
       "\t 2099     & 7042.466 & 9422.309 & 8243.156 & 9928.036\\\\\n",
       "\\end{tabular}\n"
      ],
      "text/markdown": [
       "\n",
       "| Year | GFDL.q100 | GFDL.q500 | CCSM.q100 | CCSM.q500 |\n",
       "|---|---|---|---|---|\n",
       "| 2000     | 3847.475 | 4905.475 | 3372.725 | 4023.194 |\n",
       "| 2025     | 4654.291 | 6046.090 | 4602.631 | 5514.316 |\n",
       "| 2050     | 5461.107 | 7186.704 | 5832.538 | 7005.438 |\n",
       "| 2075     | 6267.923 | 8327.319 | 7062.445 | 8496.559 |\n",
       "| 2099     | 7042.466 | 9422.309 | 8243.156 | 9928.036 |\n",
       "\n"
      ],
      "text/plain": [
       "  Year GFDL.q100 GFDL.q500 CCSM.q100 CCSM.q500\n",
       "1 2000 3847.475  4905.475  3372.725  4023.194 \n",
       "2 2025 4654.291  6046.090  4602.631  5514.316 \n",
       "3 2050 5461.107  7186.704  5832.538  7005.438 \n",
       "4 2075 6267.923  8327.319  7062.445  8496.559 \n",
       "5 2099 7042.466  9422.309  8243.156  9928.036 "
      ]
     },
     "metadata": {},
     "output_type": "display_data"
    }
   ],
   "source": [
    "sug.df"
   ]
  },
  {
   "cell_type": "code",
   "execution_count": 32,
   "metadata": {},
   "outputs": [
    {
     "data": {
      "text/html": [
       "<table>\n",
       "<thead><tr><th scope=col>Year</th><th scope=col>GFDL.q100</th><th scope=col>GFDL.q500</th><th scope=col>CCSM.q100</th><th scope=col>CCSM.q500</th></tr></thead>\n",
       "<tbody>\n",
       "\t<tr><td>2000     </td><td>3037.380 </td><td> 3603.470</td><td>5535.603 </td><td>6225.382 </td></tr>\n",
       "\t<tr><td>2025     </td><td>4290.760 </td><td> 5327.193</td><td>5650.848 </td><td>6325.848 </td></tr>\n",
       "\t<tr><td>2050     </td><td>5544.140 </td><td> 7050.916</td><td>5766.093 </td><td>6426.314 </td></tr>\n",
       "\t<tr><td>2075     </td><td>6797.520 </td><td> 8774.639</td><td>5881.338 </td><td>6526.780 </td></tr>\n",
       "\t<tr><td>2099     </td><td>8000.765 </td><td>10429.413</td><td>5991.973 </td><td>6623.227 </td></tr>\n",
       "</tbody>\n",
       "</table>\n"
      ],
      "text/latex": [
       "\\begin{tabular}{r|lllll}\n",
       " Year & GFDL.q100 & GFDL.q500 & CCSM.q100 & CCSM.q500\\\\\n",
       "\\hline\n",
       "\t 2000      & 3037.380  &  3603.470 & 5535.603  & 6225.382 \\\\\n",
       "\t 2025      & 4290.760  &  5327.193 & 5650.848  & 6325.848 \\\\\n",
       "\t 2050      & 5544.140  &  7050.916 & 5766.093  & 6426.314 \\\\\n",
       "\t 2075      & 6797.520  &  8774.639 & 5881.338  & 6526.780 \\\\\n",
       "\t 2099      & 8000.765  & 10429.413 & 5991.973  & 6623.227 \\\\\n",
       "\\end{tabular}\n"
      ],
      "text/markdown": [
       "\n",
       "| Year | GFDL.q100 | GFDL.q500 | CCSM.q100 | CCSM.q500 |\n",
       "|---|---|---|---|---|\n",
       "| 2000      | 3037.380  |  3603.470 | 5535.603  | 6225.382  |\n",
       "| 2025      | 4290.760  |  5327.193 | 5650.848  | 6325.848  |\n",
       "| 2050      | 5544.140  |  7050.916 | 5766.093  | 6426.314  |\n",
       "| 2075      | 6797.520  |  8774.639 | 5881.338  | 6526.780  |\n",
       "| 2099      | 8000.765  | 10429.413 | 5991.973  | 6623.227  |\n",
       "\n"
      ],
      "text/plain": [
       "  Year GFDL.q100 GFDL.q500 CCSM.q100 CCSM.q500\n",
       "1 2000 3037.380   3603.470 5535.603  6225.382 \n",
       "2 2025 4290.760   5327.193 5650.848  6325.848 \n",
       "3 2050 5544.140   7050.916 5766.093  6426.314 \n",
       "4 2075 6797.520   8774.639 5881.338  6526.780 \n",
       "5 2099 8000.765  10429.413 5991.973  6623.227 "
      ]
     },
     "metadata": {},
     "output_type": "display_data"
    }
   ],
   "source": [
    "cot.df"
   ]
  },
  {
   "cell_type": "code",
   "execution_count": 33,
   "metadata": {},
   "outputs": [
    {
     "data": {
      "text/html": [
       "<table>\n",
       "<thead><tr><th scope=col>Year</th><th scope=col>GFDL.q100</th><th scope=col>GFDL.q500</th><th scope=col>CCSM.q100</th><th scope=col>CCSM.q500</th></tr></thead>\n",
       "<tbody>\n",
       "\t<tr><td>2000     </td><td> 3968.665</td><td> 4740.742</td><td> 4045.060</td><td> 4788.192</td></tr>\n",
       "\t<tr><td>2025     </td><td> 6087.214</td><td> 7576.373</td><td> 6135.426</td><td> 7458.578</td></tr>\n",
       "\t<tr><td>2050     </td><td> 8205.763</td><td>10412.005</td><td> 8225.793</td><td>10128.964</td></tr>\n",
       "\t<tr><td>2075     </td><td>10324.312</td><td>13247.637</td><td>10316.159</td><td>12799.351</td></tr>\n",
       "\t<tr><td>2099     </td><td>12358.119</td><td>15969.843</td><td>12322.911</td><td>15362.921</td></tr>\n",
       "</tbody>\n",
       "</table>\n"
      ],
      "text/latex": [
       "\\begin{tabular}{r|lllll}\n",
       " Year & GFDL.q100 & GFDL.q500 & CCSM.q100 & CCSM.q500\\\\\n",
       "\\hline\n",
       "\t 2000      &  3968.665 &  4740.742 &  4045.060 &  4788.192\\\\\n",
       "\t 2025      &  6087.214 &  7576.373 &  6135.426 &  7458.578\\\\\n",
       "\t 2050      &  8205.763 & 10412.005 &  8225.793 & 10128.964\\\\\n",
       "\t 2075      & 10324.312 & 13247.637 & 10316.159 & 12799.351\\\\\n",
       "\t 2099      & 12358.119 & 15969.843 & 12322.911 & 15362.921\\\\\n",
       "\\end{tabular}\n"
      ],
      "text/markdown": [
       "\n",
       "| Year | GFDL.q100 | GFDL.q500 | CCSM.q100 | CCSM.q500 |\n",
       "|---|---|---|---|---|\n",
       "| 2000      |  3968.665 |  4740.742 |  4045.060 |  4788.192 |\n",
       "| 2025      |  6087.214 |  7576.373 |  6135.426 |  7458.578 |\n",
       "| 2050      |  8205.763 | 10412.005 |  8225.793 | 10128.964 |\n",
       "| 2075      | 10324.312 | 13247.637 | 10316.159 | 12799.351 |\n",
       "| 2099      | 12358.119 | 15969.843 | 12322.911 | 15362.921 |\n",
       "\n"
      ],
      "text/plain": [
       "  Year GFDL.q100 GFDL.q500 CCSM.q100 CCSM.q500\n",
       "1 2000  3968.665  4740.742  4045.060  4788.192\n",
       "2 2025  6087.214  7576.373  6135.426  7458.578\n",
       "3 2050  8205.763 10412.005  8225.793 10128.964\n",
       "4 2075 10324.312 13247.637 10316.159 12799.351\n",
       "5 2099 12358.119 15969.843 12322.911 15362.921"
      ]
     },
     "metadata": {},
     "output_type": "display_data"
    }
   ],
   "source": [
    "uc.df"
   ]
  },
  {
   "cell_type": "markdown",
   "metadata": {},
   "source": [
    "# Compare to stationary GEV model "
   ]
  },
  {
   "cell_type": "code",
   "execution_count": 34,
   "metadata": {},
   "outputs": [],
   "source": [
    "GFDL_params = list()\n",
    "CCSM_params = list()\n",
    "\n",
    "for(o in Objectives){\n",
    "    GFDL_params[[o]] = gevMOM(as.numeric(unlist(GFDL_maxQ[o])))\n",
    "    CCSM_params[[o]] = gevMOM(as.numeric(unlist(CCSM_maxQ[o])))\n",
    "\n",
    "}"
   ]
  },
  {
   "cell_type": "code",
   "execution_count": 35,
   "metadata": {},
   "outputs": [
    {
     "name": "stdout",
     "output_type": "stream",
     "text": [
      "[1] \"Hydropower\"\n",
      "[1] \"GFDL\"\n",
      "[1] \"CCSM\"\n"
     ]
    },
    {
     "data": {
      "image/png": "[encoded data removed]",
      "text/plain": [
       "Plot with title \"P-P plot\""
      ]
     },
     "metadata": {},
     "output_type": "display_data"
    },
    {
     "name": "stdout",
     "output_type": "stream",
     "text": [
      "[1] \"Environment\"\n",
      "[1] \"GFDL\"\n"
     ]
    },
    {
     "data": {
      "image/png": "[encoded data removed]",
      "text/plain": [
       "Plot with title \"P-P plot\""
      ]
     },
     "metadata": {},
     "output_type": "display_data"
    },
    {
     "name": "stdout",
     "output_type": "stream",
     "text": [
      "[1] \"CCSM\"\n"
     ]
    },
    {
     "data": {
      "image/png": "[encoded data removed]",
      "text/plain": [
       "Plot with title \"P-P plot\""
      ]
     },
     "metadata": {},
     "output_type": "display_data"
    },
    {
     "name": "stdout",
     "output_type": "stream",
     "text": [
      "[1] \"Recession\"\n",
      "[1] \"GFDL\"\n"
     ]
    },
    {
     "data": {
      "image/png": "[encoded data removed]",
      "text/plain": [
       "Plot with title \"P-P plot\""
      ]
     },
     "metadata": {},
     "output_type": "display_data"
    },
    {
     "name": "stdout",
     "output_type": "stream",
     "text": [
      "[1] \"CCSM\"\n"
     ]
    },
    {
     "data": {
      "image/png": "[encoded data removed]",
      "text/plain": [
       "Plot with title \"P-P plot\""
      ]
     },
     "metadata": {},
     "output_type": "display_data"
    },
    {
     "name": "stdout",
     "output_type": "stream",
     "text": [
      "[1] \"Cotton\"\n",
      "[1] \"GFDL\"\n"
     ]
    },
    {
     "data": {
      "image/png": "[encoded data removed]",
      "text/plain": [
       "Plot with title \"P-P plot\""
      ]
     },
     "metadata": {},
     "output_type": "display_data"
    },
    {
     "name": "stdout",
     "output_type": "stream",
     "text": [
      "[1] \"CCSM\"\n"
     ]
    },
    {
     "data": {
      "image/png": "[encoded data removed]",
      "text/plain": [
       "Plot with title \"P-P plot\""
      ]
     },
     "metadata": {},
     "output_type": "display_data"
    },
    {
     "name": "stdout",
     "output_type": "stream",
     "text": [
      "[1] \"Sugar\"\n",
      "[1] \"GFDL\"\n"
     ]
    },
    {
     "data": {
      "image/png": "[encoded data removed]",
      "text/plain": [
       "Plot with title \"P-P plot\""
      ]
     },
     "metadata": {},
     "output_type": "display_data"
    },
    {
     "name": "stdout",
     "output_type": "stream",
     "text": [
      "[1] \"CCSM\"\n"
     ]
    },
    {
     "data": {
      "image/png": "[encoded data removed]",
      "text/plain": [
       "Plot with title \"P-P plot\""
      ]
     },
     "metadata": {},
     "output_type": "display_data"
    },
    {
     "name": "stdout",
     "output_type": "stream",
     "text": [
      "[1] \"Uncontrolled\"\n",
      "[1] \"GFDL\"\n"
     ]
    },
    {
     "data": {
      "image/png": "[encoded data removed]",
      "text/plain": [
       "Plot with title \"P-P plot\""
      ]
     },
     "metadata": {},
     "output_type": "display_data"
    },
    {
     "name": "stdout",
     "output_type": "stream",
     "text": [
      "[1] \"CCSM\"\n"
     ]
    },
    {
     "data": {
      "image/png": "[encoded data removed]",
      "text/plain": [
       "Plot with title \"P-P plot\""
      ]
     },
     "metadata": {},
     "output_type": "display_data"
    },
    {
     "data": {
      "image/png": "[encoded data removed]",
      "text/plain": [
       "Plot with title \"P-P plot\""
      ]
     },
     "metadata": {},
     "output_type": "display_data"
    }
   ],
   "source": [
    "GFDL_MLE = list()\n",
    "CCSM_MLE = list()\n",
    "\n",
    "for(o in Objectives){\n",
    "    print(o)\n",
    "    print(\"GFDL\")\n",
    "    GFDL_MLE[[o]] = fitdist(GFDL_maxQ[[o]], \"gev\", \n",
    "                           start=list(shape=GFDL_params[[o]]$kappa,\n",
    "                                     scale = GFDL_params[[o]]$alpha,\n",
    "                                     location = GFDL_params[[o]]$xi),\n",
    "                           method=\"mle\")\n",
    "    plot(GFDL_MLE[[o]])\n",
    "    print(\"CCSM\")\n",
    "    CCSM_MLE[[o]] = fitdist(as.numeric(unlist(CCSM_maxQ[[o]])), \"gev\", \n",
    "                       start=list(shape=CCSM_params[[o]]$kappa,\n",
    "                                 scale = CCSM_params[[o]]$alpha,\n",
    "                                 location = CCSM_params[[o]]$xi),\n",
    "                       method=\"mle\")\n",
    "    plot(CCSM_MLE[[o]])\n",
    "\n",
    "}"
   ]
  },
  {
   "cell_type": "code",
   "execution_count": 36,
   "metadata": {},
   "outputs": [
    {
     "data": {
      "text/html": [
       "<strong>scale:</strong> 890.487782193955"
      ],
      "text/latex": [
       "\\textbf{scale:} 890.487782193955"
      ],
      "text/markdown": [
       "**scale:** 890.487782193955"
      ],
      "text/plain": [
       "   scale \n",
       "890.4878 "
      ]
     },
     "metadata": {},
     "output_type": "display_data"
    }
   ],
   "source": [
    "GFDL_MLE$Hydropower$estimate[2]"
   ]
  },
  {
   "cell_type": "code",
   "execution_count": 37,
   "metadata": {},
   "outputs": [],
   "source": [
    "hydro.df.stationary = data.frame(matrix(ncol=5, nrow=0))\n",
    "env.df.stationary = data.frame(matrix(ncol=5, nrow=0))\n",
    "rec.df.stationary = data.frame(matrix(ncol=5, nrow=0))\n",
    "sug.df.stationary = data.frame(matrix(ncol=5, nrow=0))\n",
    "cot.df.stationary = data.frame(matrix(ncol=5, nrow=0))\n",
    "uc.df.stationary = data.frame(matrix(ncol=5, nrow=0))"
   ]
  },
  {
   "cell_type": "code",
   "execution_count": 38,
   "metadata": {},
   "outputs": [],
   "source": [
    "createDataFrameStationary = function(o, df){\n",
    "    y = o\n",
    "    shape = GFDL_MLE[[o]]$estimate[1]\n",
    "    scale = GFDL_MLE[[o]]$estimate[2]\n",
    "    loc = GFDL_MLE[[o]]$estimate[3]\n",
    "    GFDLvalues = calcReturns(shape, scale, loc)\n",
    "    shape = CCSM_MLE[[o]]$estimate[1]\n",
    "    scale = CCSM_MLE[[o]]$estimate[2]\n",
    "    loc = CCSM_MLE[[o]]$estimate[3]\n",
    "    CCSMvalues = calcReturns(shape, scale, loc)\n",
    "\n",
    "    values = c(y, GFDLvalues$q100, GFDLvalues$q500, CCSMvalues$q100, CCSMvalues$q500)\n",
    "    df = rbind(df, values)\n",
    "        \n",
    "}\n",
    "    colnames(df) = c(\"Obj\", \"GFDL.q100\", \"GFDL.q500\", \"CCSM.q100\", \"CCSM.q500\")\n",
    "    return(df)\n",
    "}"
   ]
  },
  {
   "cell_type": "code",
   "execution_count": 39,
   "metadata": {},
   "outputs": [],
   "source": [
    "hydro.df.stationary  = createDataFrameStationary('Hydropower', hydro.df.stationary,years)\n",
    "env.df.stationary = createDataFrameStationary('Environment', env.df.stationary,years)\n",
    "rec.df.stationary = createDataFrameStationary('Recession', rec.df.stationary,years)\n",
    "sug.df.stationary = createDataFrameStationary('Sugar', sug.df.stationary,years)\n",
    "cot.df.stationary = createDataFrameStationary('Cotton', cot.df.stationary,years)\n",
    "uc.df.stationary = createDataFrameStationary('Uncontrolled', uc.df.stationary,years)\n"
   ]
  },
  {
   "cell_type": "code",
   "execution_count": 40,
   "metadata": {},
   "outputs": [
    {
     "data": {
      "text/html": [
       "<table>\n",
       "<thead><tr><th scope=col>Year</th><th scope=col>GFDL.q100</th><th scope=col>GFDL.q500</th><th scope=col>CCSM.q100</th><th scope=col>CCSM.q500</th></tr></thead>\n",
       "<tbody>\n",
       "\t<tr><td>2000    </td><td>7957.526</td><td>11801.16</td><td>8537.536</td><td>11674.97</td></tr>\n",
       "\t<tr><td>2025    </td><td>7957.526</td><td>11801.16</td><td>8537.536</td><td>11674.97</td></tr>\n",
       "\t<tr><td>2050    </td><td>7957.526</td><td>11801.16</td><td>8537.536</td><td>11674.97</td></tr>\n",
       "\t<tr><td>2075    </td><td>7957.526</td><td>11801.16</td><td>8537.536</td><td>11674.97</td></tr>\n",
       "\t<tr><td>2099    </td><td>7957.526</td><td>11801.16</td><td>8537.536</td><td>11674.97</td></tr>\n",
       "</tbody>\n",
       "</table>\n"
      ],
      "text/latex": [
       "\\begin{tabular}{r|lllll}\n",
       " Year & GFDL.q100 & GFDL.q500 & CCSM.q100 & CCSM.q500\\\\\n",
       "\\hline\n",
       "\t 2000     & 7957.526 & 11801.16 & 8537.536 & 11674.97\\\\\n",
       "\t 2025     & 7957.526 & 11801.16 & 8537.536 & 11674.97\\\\\n",
       "\t 2050     & 7957.526 & 11801.16 & 8537.536 & 11674.97\\\\\n",
       "\t 2075     & 7957.526 & 11801.16 & 8537.536 & 11674.97\\\\\n",
       "\t 2099     & 7957.526 & 11801.16 & 8537.536 & 11674.97\\\\\n",
       "\\end{tabular}\n"
      ],
      "text/markdown": [
       "\n",
       "| Year | GFDL.q100 | GFDL.q500 | CCSM.q100 | CCSM.q500 |\n",
       "|---|---|---|---|---|\n",
       "| 2000     | 7957.526 | 11801.16 | 8537.536 | 11674.97 |\n",
       "| 2025     | 7957.526 | 11801.16 | 8537.536 | 11674.97 |\n",
       "| 2050     | 7957.526 | 11801.16 | 8537.536 | 11674.97 |\n",
       "| 2075     | 7957.526 | 11801.16 | 8537.536 | 11674.97 |\n",
       "| 2099     | 7957.526 | 11801.16 | 8537.536 | 11674.97 |\n",
       "\n"
      ],
      "text/plain": [
       "  Year GFDL.q100 GFDL.q500 CCSM.q100 CCSM.q500\n",
       "1 2000 7957.526  11801.16  8537.536  11674.97 \n",
       "2 2025 7957.526  11801.16  8537.536  11674.97 \n",
       "3 2050 7957.526  11801.16  8537.536  11674.97 \n",
       "4 2075 7957.526  11801.16  8537.536  11674.97 \n",
       "5 2099 7957.526  11801.16  8537.536  11674.97 "
      ]
     },
     "metadata": {},
     "output_type": "display_data"
    }
   ],
   "source": [
    "hydro.df.stationary"
   ]
  },
  {
   "cell_type": "code",
   "execution_count": 41,
   "metadata": {},
   "outputs": [
    {
     "data": {
      "text/html": [
       "<table>\n",
       "<thead><tr><th scope=col>Year</th><th scope=col>GFDL.q100</th><th scope=col>GFDL.q500</th><th scope=col>CCSM.q100</th><th scope=col>CCSM.q500</th></tr></thead>\n",
       "<tbody>\n",
       "\t<tr><td>2000    </td><td>5293.095</td><td>7720.637</td><td>10141.41</td><td>18602.28</td></tr>\n",
       "\t<tr><td>2025    </td><td>5293.095</td><td>7720.637</td><td>10141.41</td><td>18602.28</td></tr>\n",
       "\t<tr><td>2050    </td><td>5293.095</td><td>7720.637</td><td>10141.41</td><td>18602.28</td></tr>\n",
       "\t<tr><td>2075    </td><td>5293.095</td><td>7720.637</td><td>10141.41</td><td>18602.28</td></tr>\n",
       "\t<tr><td>2099    </td><td>5293.095</td><td>7720.637</td><td>10141.41</td><td>18602.28</td></tr>\n",
       "</tbody>\n",
       "</table>\n"
      ],
      "text/latex": [
       "\\begin{tabular}{r|lllll}\n",
       " Year & GFDL.q100 & GFDL.q500 & CCSM.q100 & CCSM.q500\\\\\n",
       "\\hline\n",
       "\t 2000     & 5293.095 & 7720.637 & 10141.41 & 18602.28\\\\\n",
       "\t 2025     & 5293.095 & 7720.637 & 10141.41 & 18602.28\\\\\n",
       "\t 2050     & 5293.095 & 7720.637 & 10141.41 & 18602.28\\\\\n",
       "\t 2075     & 5293.095 & 7720.637 & 10141.41 & 18602.28\\\\\n",
       "\t 2099     & 5293.095 & 7720.637 & 10141.41 & 18602.28\\\\\n",
       "\\end{tabular}\n"
      ],
      "text/markdown": [
       "\n",
       "| Year | GFDL.q100 | GFDL.q500 | CCSM.q100 | CCSM.q500 |\n",
       "|---|---|---|---|---|\n",
       "| 2000     | 5293.095 | 7720.637 | 10141.41 | 18602.28 |\n",
       "| 2025     | 5293.095 | 7720.637 | 10141.41 | 18602.28 |\n",
       "| 2050     | 5293.095 | 7720.637 | 10141.41 | 18602.28 |\n",
       "| 2075     | 5293.095 | 7720.637 | 10141.41 | 18602.28 |\n",
       "| 2099     | 5293.095 | 7720.637 | 10141.41 | 18602.28 |\n",
       "\n"
      ],
      "text/plain": [
       "  Year GFDL.q100 GFDL.q500 CCSM.q100 CCSM.q500\n",
       "1 2000 5293.095  7720.637  10141.41  18602.28 \n",
       "2 2025 5293.095  7720.637  10141.41  18602.28 \n",
       "3 2050 5293.095  7720.637  10141.41  18602.28 \n",
       "4 2075 5293.095  7720.637  10141.41  18602.28 \n",
       "5 2099 5293.095  7720.637  10141.41  18602.28 "
      ]
     },
     "metadata": {},
     "output_type": "display_data"
    }
   ],
   "source": [
    "env.df.stationary"
   ]
  },
  {
   "cell_type": "code",
   "execution_count": 42,
   "metadata": {},
   "outputs": [
    {
     "data": {
      "text/html": [
       "<table>\n",
       "<thead><tr><th scope=col>Year</th><th scope=col>GFDL.q100</th><th scope=col>GFDL.q500</th><th scope=col>CCSM.q100</th><th scope=col>CCSM.q500</th></tr></thead>\n",
       "<tbody>\n",
       "\t<tr><td>2000    </td><td>5209.938</td><td>7233.822</td><td>6523.87 </td><td>9045.39 </td></tr>\n",
       "\t<tr><td>2025    </td><td>5209.938</td><td>7233.822</td><td>6523.87 </td><td>9045.39 </td></tr>\n",
       "\t<tr><td>2050    </td><td>5209.938</td><td>7233.822</td><td>6523.87 </td><td>9045.39 </td></tr>\n",
       "\t<tr><td>2075    </td><td>5209.938</td><td>7233.822</td><td>6523.87 </td><td>9045.39 </td></tr>\n",
       "\t<tr><td>2099    </td><td>5209.938</td><td>7233.822</td><td>6523.87 </td><td>9045.39 </td></tr>\n",
       "</tbody>\n",
       "</table>\n"
      ],
      "text/latex": [
       "\\begin{tabular}{r|lllll}\n",
       " Year & GFDL.q100 & GFDL.q500 & CCSM.q100 & CCSM.q500\\\\\n",
       "\\hline\n",
       "\t 2000     & 5209.938 & 7233.822 & 6523.87  & 9045.39 \\\\\n",
       "\t 2025     & 5209.938 & 7233.822 & 6523.87  & 9045.39 \\\\\n",
       "\t 2050     & 5209.938 & 7233.822 & 6523.87  & 9045.39 \\\\\n",
       "\t 2075     & 5209.938 & 7233.822 & 6523.87  & 9045.39 \\\\\n",
       "\t 2099     & 5209.938 & 7233.822 & 6523.87  & 9045.39 \\\\\n",
       "\\end{tabular}\n"
      ],
      "text/markdown": [
       "\n",
       "| Year | GFDL.q100 | GFDL.q500 | CCSM.q100 | CCSM.q500 |\n",
       "|---|---|---|---|---|\n",
       "| 2000     | 5209.938 | 7233.822 | 6523.87  | 9045.39  |\n",
       "| 2025     | 5209.938 | 7233.822 | 6523.87  | 9045.39  |\n",
       "| 2050     | 5209.938 | 7233.822 | 6523.87  | 9045.39  |\n",
       "| 2075     | 5209.938 | 7233.822 | 6523.87  | 9045.39  |\n",
       "| 2099     | 5209.938 | 7233.822 | 6523.87  | 9045.39  |\n",
       "\n"
      ],
      "text/plain": [
       "  Year GFDL.q100 GFDL.q500 CCSM.q100 CCSM.q500\n",
       "1 2000 5209.938  7233.822  6523.87   9045.39  \n",
       "2 2025 5209.938  7233.822  6523.87   9045.39  \n",
       "3 2050 5209.938  7233.822  6523.87   9045.39  \n",
       "4 2075 5209.938  7233.822  6523.87   9045.39  \n",
       "5 2099 5209.938  7233.822  6523.87   9045.39  "
      ]
     },
     "metadata": {},
     "output_type": "display_data"
    }
   ],
   "source": [
    "rec.df.stationary"
   ]
  },
  {
   "cell_type": "code",
   "execution_count": 43,
   "metadata": {},
   "outputs": [
    {
     "data": {
      "text/html": [
       "<table>\n",
       "<thead><tr><th scope=col>Year</th><th scope=col>GFDL.q100</th><th scope=col>GFDL.q500</th><th scope=col>CCSM.q100</th><th scope=col>CCSM.q500</th></tr></thead>\n",
       "<tbody>\n",
       "\t<tr><td>2000    </td><td>5808.158</td><td>8095.765</td><td>5892.022</td><td>7108.275</td></tr>\n",
       "\t<tr><td>2025    </td><td>5808.158</td><td>8095.765</td><td>5892.022</td><td>7108.275</td></tr>\n",
       "\t<tr><td>2050    </td><td>5808.158</td><td>8095.765</td><td>5892.022</td><td>7108.275</td></tr>\n",
       "\t<tr><td>2075    </td><td>5808.158</td><td>8095.765</td><td>5892.022</td><td>7108.275</td></tr>\n",
       "\t<tr><td>2099    </td><td>5808.158</td><td>8095.765</td><td>5892.022</td><td>7108.275</td></tr>\n",
       "</tbody>\n",
       "</table>\n"
      ],
      "text/latex": [
       "\\begin{tabular}{r|lllll}\n",
       " Year & GFDL.q100 & GFDL.q500 & CCSM.q100 & CCSM.q500\\\\\n",
       "\\hline\n",
       "\t 2000     & 5808.158 & 8095.765 & 5892.022 & 7108.275\\\\\n",
       "\t 2025     & 5808.158 & 8095.765 & 5892.022 & 7108.275\\\\\n",
       "\t 2050     & 5808.158 & 8095.765 & 5892.022 & 7108.275\\\\\n",
       "\t 2075     & 5808.158 & 8095.765 & 5892.022 & 7108.275\\\\\n",
       "\t 2099     & 5808.158 & 8095.765 & 5892.022 & 7108.275\\\\\n",
       "\\end{tabular}\n"
      ],
      "text/markdown": [
       "\n",
       "| Year | GFDL.q100 | GFDL.q500 | CCSM.q100 | CCSM.q500 |\n",
       "|---|---|---|---|---|\n",
       "| 2000     | 5808.158 | 8095.765 | 5892.022 | 7108.275 |\n",
       "| 2025     | 5808.158 | 8095.765 | 5892.022 | 7108.275 |\n",
       "| 2050     | 5808.158 | 8095.765 | 5892.022 | 7108.275 |\n",
       "| 2075     | 5808.158 | 8095.765 | 5892.022 | 7108.275 |\n",
       "| 2099     | 5808.158 | 8095.765 | 5892.022 | 7108.275 |\n",
       "\n"
      ],
      "text/plain": [
       "  Year GFDL.q100 GFDL.q500 CCSM.q100 CCSM.q500\n",
       "1 2000 5808.158  8095.765  5892.022  7108.275 \n",
       "2 2025 5808.158  8095.765  5892.022  7108.275 \n",
       "3 2050 5808.158  8095.765  5892.022  7108.275 \n",
       "4 2075 5808.158  8095.765  5892.022  7108.275 \n",
       "5 2099 5808.158  8095.765  5892.022  7108.275 "
      ]
     },
     "metadata": {},
     "output_type": "display_data"
    }
   ],
   "source": [
    "sug.df.stationary"
   ]
  },
  {
   "cell_type": "code",
   "execution_count": 44,
   "metadata": {},
   "outputs": [
    {
     "data": {
      "text/html": [
       "<table>\n",
       "<thead><tr><th scope=col>Year</th><th scope=col>GFDL.q100</th><th scope=col>GFDL.q500</th><th scope=col>CCSM.q100</th><th scope=col>CCSM.q500</th></tr></thead>\n",
       "<tbody>\n",
       "\t<tr><td>2000    </td><td>4988.304</td><td>6140.573</td><td>5849.643</td><td>6839.75 </td></tr>\n",
       "\t<tr><td>2025    </td><td>4988.304</td><td>6140.573</td><td>5849.643</td><td>6839.75 </td></tr>\n",
       "\t<tr><td>2050    </td><td>4988.304</td><td>6140.573</td><td>5849.643</td><td>6839.75 </td></tr>\n",
       "\t<tr><td>2075    </td><td>4988.304</td><td>6140.573</td><td>5849.643</td><td>6839.75 </td></tr>\n",
       "\t<tr><td>2099    </td><td>4988.304</td><td>6140.573</td><td>5849.643</td><td>6839.75 </td></tr>\n",
       "</tbody>\n",
       "</table>\n"
      ],
      "text/latex": [
       "\\begin{tabular}{r|lllll}\n",
       " Year & GFDL.q100 & GFDL.q500 & CCSM.q100 & CCSM.q500\\\\\n",
       "\\hline\n",
       "\t 2000     & 4988.304 & 6140.573 & 5849.643 & 6839.75 \\\\\n",
       "\t 2025     & 4988.304 & 6140.573 & 5849.643 & 6839.75 \\\\\n",
       "\t 2050     & 4988.304 & 6140.573 & 5849.643 & 6839.75 \\\\\n",
       "\t 2075     & 4988.304 & 6140.573 & 5849.643 & 6839.75 \\\\\n",
       "\t 2099     & 4988.304 & 6140.573 & 5849.643 & 6839.75 \\\\\n",
       "\\end{tabular}\n"
      ],
      "text/markdown": [
       "\n",
       "| Year | GFDL.q100 | GFDL.q500 | CCSM.q100 | CCSM.q500 |\n",
       "|---|---|---|---|---|\n",
       "| 2000     | 4988.304 | 6140.573 | 5849.643 | 6839.75  |\n",
       "| 2025     | 4988.304 | 6140.573 | 5849.643 | 6839.75  |\n",
       "| 2050     | 4988.304 | 6140.573 | 5849.643 | 6839.75  |\n",
       "| 2075     | 4988.304 | 6140.573 | 5849.643 | 6839.75  |\n",
       "| 2099     | 4988.304 | 6140.573 | 5849.643 | 6839.75  |\n",
       "\n"
      ],
      "text/plain": [
       "  Year GFDL.q100 GFDL.q500 CCSM.q100 CCSM.q500\n",
       "1 2000 4988.304  6140.573  5849.643  6839.75  \n",
       "2 2025 4988.304  6140.573  5849.643  6839.75  \n",
       "3 2050 4988.304  6140.573  5849.643  6839.75  \n",
       "4 2075 4988.304  6140.573  5849.643  6839.75  \n",
       "5 2099 4988.304  6140.573  5849.643  6839.75  "
      ]
     },
     "metadata": {},
     "output_type": "display_data"
    }
   ],
   "source": [
    "cot.df.stationary"
   ]
  },
  {
   "cell_type": "code",
   "execution_count": 45,
   "metadata": {},
   "outputs": [
    {
     "data": {
      "text/html": [
       "<table>\n",
       "<thead><tr><th scope=col>Year</th><th scope=col>GFDL.q100</th><th scope=col>GFDL.q500</th><th scope=col>CCSM.q100</th><th scope=col>CCSM.q500</th></tr></thead>\n",
       "<tbody>\n",
       "\t<tr><td>2000    </td><td>8518.314</td><td>11512.2 </td><td>8678.516</td><td>11443.33</td></tr>\n",
       "\t<tr><td>2025    </td><td>8518.314</td><td>11512.2 </td><td>8678.516</td><td>11443.33</td></tr>\n",
       "\t<tr><td>2050    </td><td>8518.314</td><td>11512.2 </td><td>8678.516</td><td>11443.33</td></tr>\n",
       "\t<tr><td>2075    </td><td>8518.314</td><td>11512.2 </td><td>8678.516</td><td>11443.33</td></tr>\n",
       "\t<tr><td>2099    </td><td>8518.314</td><td>11512.2 </td><td>8678.516</td><td>11443.33</td></tr>\n",
       "</tbody>\n",
       "</table>\n"
      ],
      "text/latex": [
       "\\begin{tabular}{r|lllll}\n",
       " Year & GFDL.q100 & GFDL.q500 & CCSM.q100 & CCSM.q500\\\\\n",
       "\\hline\n",
       "\t 2000     & 8518.314 & 11512.2  & 8678.516 & 11443.33\\\\\n",
       "\t 2025     & 8518.314 & 11512.2  & 8678.516 & 11443.33\\\\\n",
       "\t 2050     & 8518.314 & 11512.2  & 8678.516 & 11443.33\\\\\n",
       "\t 2075     & 8518.314 & 11512.2  & 8678.516 & 11443.33\\\\\n",
       "\t 2099     & 8518.314 & 11512.2  & 8678.516 & 11443.33\\\\\n",
       "\\end{tabular}\n"
      ],
      "text/markdown": [
       "\n",
       "| Year | GFDL.q100 | GFDL.q500 | CCSM.q100 | CCSM.q500 |\n",
       "|---|---|---|---|---|\n",
       "| 2000     | 8518.314 | 11512.2  | 8678.516 | 11443.33 |\n",
       "| 2025     | 8518.314 | 11512.2  | 8678.516 | 11443.33 |\n",
       "| 2050     | 8518.314 | 11512.2  | 8678.516 | 11443.33 |\n",
       "| 2075     | 8518.314 | 11512.2  | 8678.516 | 11443.33 |\n",
       "| 2099     | 8518.314 | 11512.2  | 8678.516 | 11443.33 |\n",
       "\n"
      ],
      "text/plain": [
       "  Year GFDL.q100 GFDL.q500 CCSM.q100 CCSM.q500\n",
       "1 2000 8518.314  11512.2   8678.516  11443.33 \n",
       "2 2025 8518.314  11512.2   8678.516  11443.33 \n",
       "3 2050 8518.314  11512.2   8678.516  11443.33 \n",
       "4 2075 8518.314  11512.2   8678.516  11443.33 \n",
       "5 2099 8518.314  11512.2   8678.516  11443.33 "
      ]
     },
     "metadata": {},
     "output_type": "display_data"
    }
   ],
   "source": [
    "uc.df.stationary"
   ]
  },
  {
   "cell_type": "markdown",
   "metadata": {},
   "source": [
    "## Stationary and only over historical"
   ]
  },
  {
   "cell_type": "code",
   "execution_count": 46,
   "metadata": {},
   "outputs": [],
   "source": [
    "GFDL_hist = GFDL_maxQ[which(GFDL_maxQ$Year < 2019),]\n",
    "CCSM_hist = CCSM_maxQ[which(CCSM_maxQ$Year < 2019),]"
   ]
  },
  {
   "cell_type": "code",
   "execution_count": 47,
   "metadata": {},
   "outputs": [],
   "source": [
    "GFDL_params = list()\n",
    "CCSM_params = list()\n",
    "\n",
    "for(o in Objectives){\n",
    "    GFDL_params[[o]] = gevMOM(as.numeric(unlist(GFDL_hist[o])))\n",
    "    CCSM_params[[o]] = gevMOM(as.numeric(unlist(CCSM_hist[o])))\n",
    "\n",
    "}"
   ]
  },
  {
   "cell_type": "code",
   "execution_count": 48,
   "metadata": {},
   "outputs": [
    {
     "name": "stdout",
     "output_type": "stream",
     "text": [
      "[1] \"Hydropower\"\n",
      "[1] \"GFDL\"\n",
      "[1] \"CCSM\"\n",
      "[1] \"Environment\"\n",
      "[1] \"GFDL\"\n"
     ]
    },
    {
     "data": {
      "image/png": "[encoded data removed]",
      "text/plain": [
       "Plot with title \"P-P plot\""
      ]
     },
     "metadata": {},
     "output_type": "display_data"
    },
    {
     "name": "stdout",
     "output_type": "stream",
     "text": [
      "[1] \"CCSM\"\n",
      "[1] \"Recession\"\n",
      "[1] \"GFDL\"\n"
     ]
    },
    {
     "data": {
      "image/png": "[encoded data removed]",
      "text/plain": [
       "Plot with title \"P-P plot\""
      ]
     },
     "metadata": {},
     "output_type": "display_data"
    },
    {
     "name": "stdout",
     "output_type": "stream",
     "text": [
      "[1] \"CCSM\"\n",
      "[1] \"Cotton\"\n",
      "[1] \"GFDL\"\n"
     ]
    },
    {
     "data": {
      "image/png": "[encoded data removed]",
      "text/plain": [
       "Plot with title \"P-P plot\""
      ]
     },
     "metadata": {},
     "output_type": "display_data"
    },
    {
     "name": "stdout",
     "output_type": "stream",
     "text": [
      "[1] \"CCSM\"\n",
      "[1] \"Sugar\"\n",
      "[1] \"GFDL\"\n"
     ]
    },
    {
     "data": {
      "image/png": "[encoded data removed]",
      "text/plain": [
       "Plot with title \"P-P plot\""
      ]
     },
     "metadata": {},
     "output_type": "display_data"
    },
    {
     "name": "stdout",
     "output_type": "stream",
     "text": [
      "[1] \"CCSM\"\n",
      "[1] \"Uncontrolled\"\n",
      "[1] \"GFDL\"\n"
     ]
    },
    {
     "data": {
      "image/png": "[encoded data removed]",
      "text/plain": [
       "Plot with title \"P-P plot\""
      ]
     },
     "metadata": {},
     "output_type": "display_data"
    },
    {
     "name": "stdout",
     "output_type": "stream",
     "text": [
      "[1] \"CCSM\"\n"
     ]
    },
    {
     "data": {
      "image/png": "[encoded data removed]",
      "text/plain": [
       "Plot with title \"P-P plot\""
      ]
     },
     "metadata": {},
     "output_type": "display_data"
    },
    {
     "data": {
      "image/png": "[encoded data removed]",
      "text/plain": [
       "Plot with title \"P-P plot\""
      ]
     },
     "metadata": {},
     "output_type": "display_data"
    }
   ],
   "source": [
    "GFDL_MLE = list()\n",
    "CCSM_MLE = list()\n",
    "\n",
    "for(o in Objectives){\n",
    "    print(o)\n",
    "    print(\"GFDL\")\n",
    "    GFDL_MLE[[o]] = fitdist(GFDL_hist[[o]], \"gev\", \n",
    "                           start=list(shape=GFDL_params[[o]]$kappa,\n",
    "                                     scale = GFDL_params[[o]]$alpha,\n",
    "                                     location = GFDL_params[[o]]$xi),\n",
    "                           method=\"mle\")\n",
    "    plot(GFDL_MLE[[o]])\n",
    "    print(\"CCSM\")\n",
    "    CCSM_MLE[[o]] = fitdist(as.numeric(unlist(CCSM_hist[[o]])), \"gev\", \n",
    "                       start=list(shape=CCSM_params[[o]]$kappa,\n",
    "                                 scale = CCSM_params[[o]]$alpha,\n",
    "                                 location = CCSM_params[[o]]$xi),\n",
    "                       method=\"mle\")\n",
    "    plot(CCSM_MLE[[o]])\n",
    "\n",
    "}"
   ]
  },
  {
   "cell_type": "code",
   "execution_count": 49,
   "metadata": {},
   "outputs": [],
   "source": [
    "hydro.df.stationary.hist = data.frame(matrix(ncol=5, nrow=0))\n",
    "env.df.stationary.hist = data.frame(matrix(ncol=5, nrow=0))\n",
    "rec.df.stationary.hist = data.frame(matrix(ncol=5, nrow=0))\n",
    "sug.df.stationary.hist = data.frame(matrix(ncol=5, nrow=0))\n",
    "cot.df.stationary.hist = data.frame(matrix(ncol=5, nrow=0))\n",
    "uc.df.stationary.hist = data.frame(matrix(ncol=5, nrow=0))"
   ]
  },
  {
   "cell_type": "code",
   "execution_count": 50,
   "metadata": {},
   "outputs": [],
   "source": [
    "hydro.df.stationary.hist  = createDataFrameStationary('Hydropower', hydro.df.stationary.hist,years)\n",
    "env.df.stationary.hist = createDataFrameStationary('Environment', env.df.stationary.hist,years)\n",
    "rec.df.stationary.hist = createDataFrameStationary('Recession', rec.df.stationary.hist,years)\n",
    "sug.df.stationary.hist = createDataFrameStationary('Sugar', sug.df.stationary.hist,years)\n",
    "cot.df.stationary.hist = createDataFrameStationary('Cotton', cot.df.stationary.hist,years)\n",
    "uc.df.stationary.hist = createDataFrameStationary('Uncontrolled', uc.df.stationary.hist,years)\n"
   ]
  },
  {
   "cell_type": "code",
   "execution_count": 51,
   "metadata": {},
   "outputs": [
    {
     "data": {
      "text/html": [
       "<table>\n",
       "<thead><tr><th scope=col>Year</th><th scope=col>GFDL.q100</th><th scope=col>GFDL.q500</th><th scope=col>CCSM.q100</th><th scope=col>CCSM.q500</th></tr></thead>\n",
       "<tbody>\n",
       "\t<tr><td>2000    </td><td>2661.563</td><td>2724.191</td><td>2661.563</td><td>2724.191</td></tr>\n",
       "\t<tr><td>2025    </td><td>2661.563</td><td>2724.191</td><td>2661.563</td><td>2724.191</td></tr>\n",
       "\t<tr><td>2050    </td><td>2661.563</td><td>2724.191</td><td>2661.563</td><td>2724.191</td></tr>\n",
       "\t<tr><td>2075    </td><td>2661.563</td><td>2724.191</td><td>2661.563</td><td>2724.191</td></tr>\n",
       "\t<tr><td>2099    </td><td>2661.563</td><td>2724.191</td><td>2661.563</td><td>2724.191</td></tr>\n",
       "</tbody>\n",
       "</table>\n"
      ],
      "text/latex": [
       "\\begin{tabular}{r|lllll}\n",
       " Year & GFDL.q100 & GFDL.q500 & CCSM.q100 & CCSM.q500\\\\\n",
       "\\hline\n",
       "\t 2000     & 2661.563 & 2724.191 & 2661.563 & 2724.191\\\\\n",
       "\t 2025     & 2661.563 & 2724.191 & 2661.563 & 2724.191\\\\\n",
       "\t 2050     & 2661.563 & 2724.191 & 2661.563 & 2724.191\\\\\n",
       "\t 2075     & 2661.563 & 2724.191 & 2661.563 & 2724.191\\\\\n",
       "\t 2099     & 2661.563 & 2724.191 & 2661.563 & 2724.191\\\\\n",
       "\\end{tabular}\n"
      ],
      "text/markdown": [
       "\n",
       "| Year | GFDL.q100 | GFDL.q500 | CCSM.q100 | CCSM.q500 |\n",
       "|---|---|---|---|---|\n",
       "| 2000     | 2661.563 | 2724.191 | 2661.563 | 2724.191 |\n",
       "| 2025     | 2661.563 | 2724.191 | 2661.563 | 2724.191 |\n",
       "| 2050     | 2661.563 | 2724.191 | 2661.563 | 2724.191 |\n",
       "| 2075     | 2661.563 | 2724.191 | 2661.563 | 2724.191 |\n",
       "| 2099     | 2661.563 | 2724.191 | 2661.563 | 2724.191 |\n",
       "\n"
      ],
      "text/plain": [
       "  Year GFDL.q100 GFDL.q500 CCSM.q100 CCSM.q500\n",
       "1 2000 2661.563  2724.191  2661.563  2724.191 \n",
       "2 2025 2661.563  2724.191  2661.563  2724.191 \n",
       "3 2050 2661.563  2724.191  2661.563  2724.191 \n",
       "4 2075 2661.563  2724.191  2661.563  2724.191 \n",
       "5 2099 2661.563  2724.191  2661.563  2724.191 "
      ]
     },
     "metadata": {},
     "output_type": "display_data"
    }
   ],
   "source": [
    "hydro.df.stationary.hist"
   ]
  },
  {
   "cell_type": "code",
   "execution_count": 52,
   "metadata": {},
   "outputs": [
    {
     "data": {
      "text/html": [
       "<table>\n",
       "<thead><tr><th scope=col>Year</th><th scope=col>GFDL.q100</th><th scope=col>GFDL.q500</th><th scope=col>CCSM.q100</th><th scope=col>CCSM.q500</th></tr></thead>\n",
       "<tbody>\n",
       "\t<tr><td>2000    </td><td>2594.154</td><td>2949.529</td><td>2594.154</td><td>2949.529</td></tr>\n",
       "\t<tr><td>2025    </td><td>2594.154</td><td>2949.529</td><td>2594.154</td><td>2949.529</td></tr>\n",
       "\t<tr><td>2050    </td><td>2594.154</td><td>2949.529</td><td>2594.154</td><td>2949.529</td></tr>\n",
       "\t<tr><td>2075    </td><td>2594.154</td><td>2949.529</td><td>2594.154</td><td>2949.529</td></tr>\n",
       "\t<tr><td>2099    </td><td>2594.154</td><td>2949.529</td><td>2594.154</td><td>2949.529</td></tr>\n",
       "</tbody>\n",
       "</table>\n"
      ],
      "text/latex": [
       "\\begin{tabular}{r|lllll}\n",
       " Year & GFDL.q100 & GFDL.q500 & CCSM.q100 & CCSM.q500\\\\\n",
       "\\hline\n",
       "\t 2000     & 2594.154 & 2949.529 & 2594.154 & 2949.529\\\\\n",
       "\t 2025     & 2594.154 & 2949.529 & 2594.154 & 2949.529\\\\\n",
       "\t 2050     & 2594.154 & 2949.529 & 2594.154 & 2949.529\\\\\n",
       "\t 2075     & 2594.154 & 2949.529 & 2594.154 & 2949.529\\\\\n",
       "\t 2099     & 2594.154 & 2949.529 & 2594.154 & 2949.529\\\\\n",
       "\\end{tabular}\n"
      ],
      "text/markdown": [
       "\n",
       "| Year | GFDL.q100 | GFDL.q500 | CCSM.q100 | CCSM.q500 |\n",
       "|---|---|---|---|---|\n",
       "| 2000     | 2594.154 | 2949.529 | 2594.154 | 2949.529 |\n",
       "| 2025     | 2594.154 | 2949.529 | 2594.154 | 2949.529 |\n",
       "| 2050     | 2594.154 | 2949.529 | 2594.154 | 2949.529 |\n",
       "| 2075     | 2594.154 | 2949.529 | 2594.154 | 2949.529 |\n",
       "| 2099     | 2594.154 | 2949.529 | 2594.154 | 2949.529 |\n",
       "\n"
      ],
      "text/plain": [
       "  Year GFDL.q100 GFDL.q500 CCSM.q100 CCSM.q500\n",
       "1 2000 2594.154  2949.529  2594.154  2949.529 \n",
       "2 2025 2594.154  2949.529  2594.154  2949.529 \n",
       "3 2050 2594.154  2949.529  2594.154  2949.529 \n",
       "4 2075 2594.154  2949.529  2594.154  2949.529 \n",
       "5 2099 2594.154  2949.529  2594.154  2949.529 "
      ]
     },
     "metadata": {},
     "output_type": "display_data"
    }
   ],
   "source": [
    "env.df.stationary.hist"
   ]
  },
  {
   "cell_type": "code",
   "execution_count": 53,
   "metadata": {},
   "outputs": [
    {
     "data": {
      "text/html": [
       "<table>\n",
       "<thead><tr><th scope=col>Year</th><th scope=col>GFDL.q100</th><th scope=col>GFDL.q500</th><th scope=col>CCSM.q100</th><th scope=col>CCSM.q500</th></tr></thead>\n",
       "<tbody>\n",
       "\t<tr><td>2000    </td><td>2543.001</td><td>2773.706</td><td>2543.001</td><td>2773.706</td></tr>\n",
       "\t<tr><td>2025    </td><td>2543.001</td><td>2773.706</td><td>2543.001</td><td>2773.706</td></tr>\n",
       "\t<tr><td>2050    </td><td>2543.001</td><td>2773.706</td><td>2543.001</td><td>2773.706</td></tr>\n",
       "\t<tr><td>2075    </td><td>2543.001</td><td>2773.706</td><td>2543.001</td><td>2773.706</td></tr>\n",
       "\t<tr><td>2099    </td><td>2543.001</td><td>2773.706</td><td>2543.001</td><td>2773.706</td></tr>\n",
       "</tbody>\n",
       "</table>\n"
      ],
      "text/latex": [
       "\\begin{tabular}{r|lllll}\n",
       " Year & GFDL.q100 & GFDL.q500 & CCSM.q100 & CCSM.q500\\\\\n",
       "\\hline\n",
       "\t 2000     & 2543.001 & 2773.706 & 2543.001 & 2773.706\\\\\n",
       "\t 2025     & 2543.001 & 2773.706 & 2543.001 & 2773.706\\\\\n",
       "\t 2050     & 2543.001 & 2773.706 & 2543.001 & 2773.706\\\\\n",
       "\t 2075     & 2543.001 & 2773.706 & 2543.001 & 2773.706\\\\\n",
       "\t 2099     & 2543.001 & 2773.706 & 2543.001 & 2773.706\\\\\n",
       "\\end{tabular}\n"
      ],
      "text/markdown": [
       "\n",
       "| Year | GFDL.q100 | GFDL.q500 | CCSM.q100 | CCSM.q500 |\n",
       "|---|---|---|---|---|\n",
       "| 2000     | 2543.001 | 2773.706 | 2543.001 | 2773.706 |\n",
       "| 2025     | 2543.001 | 2773.706 | 2543.001 | 2773.706 |\n",
       "| 2050     | 2543.001 | 2773.706 | 2543.001 | 2773.706 |\n",
       "| 2075     | 2543.001 | 2773.706 | 2543.001 | 2773.706 |\n",
       "| 2099     | 2543.001 | 2773.706 | 2543.001 | 2773.706 |\n",
       "\n"
      ],
      "text/plain": [
       "  Year GFDL.q100 GFDL.q500 CCSM.q100 CCSM.q500\n",
       "1 2000 2543.001  2773.706  2543.001  2773.706 \n",
       "2 2025 2543.001  2773.706  2543.001  2773.706 \n",
       "3 2050 2543.001  2773.706  2543.001  2773.706 \n",
       "4 2075 2543.001  2773.706  2543.001  2773.706 \n",
       "5 2099 2543.001  2773.706  2543.001  2773.706 "
      ]
     },
     "metadata": {},
     "output_type": "display_data"
    }
   ],
   "source": [
    "rec.df.stationary.hist"
   ]
  },
  {
   "cell_type": "code",
   "execution_count": 54,
   "metadata": {},
   "outputs": [
    {
     "data": {
      "text/html": [
       "<table>\n",
       "<thead><tr><th scope=col>Year</th><th scope=col>GFDL.q100</th><th scope=col>GFDL.q500</th><th scope=col>CCSM.q100</th><th scope=col>CCSM.q500</th></tr></thead>\n",
       "<tbody>\n",
       "\t<tr><td>2000    </td><td>2708.81 </td><td>2885.593</td><td>2708.81 </td><td>2885.593</td></tr>\n",
       "\t<tr><td>2025    </td><td>2708.81 </td><td>2885.593</td><td>2708.81 </td><td>2885.593</td></tr>\n",
       "\t<tr><td>2050    </td><td>2708.81 </td><td>2885.593</td><td>2708.81 </td><td>2885.593</td></tr>\n",
       "\t<tr><td>2075    </td><td>2708.81 </td><td>2885.593</td><td>2708.81 </td><td>2885.593</td></tr>\n",
       "\t<tr><td>2099    </td><td>2708.81 </td><td>2885.593</td><td>2708.81 </td><td>2885.593</td></tr>\n",
       "</tbody>\n",
       "</table>\n"
      ],
      "text/latex": [
       "\\begin{tabular}{r|lllll}\n",
       " Year & GFDL.q100 & GFDL.q500 & CCSM.q100 & CCSM.q500\\\\\n",
       "\\hline\n",
       "\t 2000     & 2708.81  & 2885.593 & 2708.81  & 2885.593\\\\\n",
       "\t 2025     & 2708.81  & 2885.593 & 2708.81  & 2885.593\\\\\n",
       "\t 2050     & 2708.81  & 2885.593 & 2708.81  & 2885.593\\\\\n",
       "\t 2075     & 2708.81  & 2885.593 & 2708.81  & 2885.593\\\\\n",
       "\t 2099     & 2708.81  & 2885.593 & 2708.81  & 2885.593\\\\\n",
       "\\end{tabular}\n"
      ],
      "text/markdown": [
       "\n",
       "| Year | GFDL.q100 | GFDL.q500 | CCSM.q100 | CCSM.q500 |\n",
       "|---|---|---|---|---|\n",
       "| 2000     | 2708.81  | 2885.593 | 2708.81  | 2885.593 |\n",
       "| 2025     | 2708.81  | 2885.593 | 2708.81  | 2885.593 |\n",
       "| 2050     | 2708.81  | 2885.593 | 2708.81  | 2885.593 |\n",
       "| 2075     | 2708.81  | 2885.593 | 2708.81  | 2885.593 |\n",
       "| 2099     | 2708.81  | 2885.593 | 2708.81  | 2885.593 |\n",
       "\n"
      ],
      "text/plain": [
       "  Year GFDL.q100 GFDL.q500 CCSM.q100 CCSM.q500\n",
       "1 2000 2708.81   2885.593  2708.81   2885.593 \n",
       "2 2025 2708.81   2885.593  2708.81   2885.593 \n",
       "3 2050 2708.81   2885.593  2708.81   2885.593 \n",
       "4 2075 2708.81   2885.593  2708.81   2885.593 \n",
       "5 2099 2708.81   2885.593  2708.81   2885.593 "
      ]
     },
     "metadata": {},
     "output_type": "display_data"
    }
   ],
   "source": [
    "sug.df.stationary.hist"
   ]
  },
  {
   "cell_type": "code",
   "execution_count": 55,
   "metadata": {},
   "outputs": [
    {
     "data": {
      "text/html": [
       "<table>\n",
       "<thead><tr><th scope=col>Year</th><th scope=col>GFDL.q100</th><th scope=col>GFDL.q500</th><th scope=col>CCSM.q100</th><th scope=col>CCSM.q500</th></tr></thead>\n",
       "<tbody>\n",
       "\t<tr><td>2000    </td><td>3253.084</td><td>3880.934</td><td>3253.084</td><td>3880.934</td></tr>\n",
       "\t<tr><td>2025    </td><td>3253.084</td><td>3880.934</td><td>3253.084</td><td>3880.934</td></tr>\n",
       "\t<tr><td>2050    </td><td>3253.084</td><td>3880.934</td><td>3253.084</td><td>3880.934</td></tr>\n",
       "\t<tr><td>2075    </td><td>3253.084</td><td>3880.934</td><td>3253.084</td><td>3880.934</td></tr>\n",
       "\t<tr><td>2099    </td><td>3253.084</td><td>3880.934</td><td>3253.084</td><td>3880.934</td></tr>\n",
       "</tbody>\n",
       "</table>\n"
      ],
      "text/latex": [
       "\\begin{tabular}{r|lllll}\n",
       " Year & GFDL.q100 & GFDL.q500 & CCSM.q100 & CCSM.q500\\\\\n",
       "\\hline\n",
       "\t 2000     & 3253.084 & 3880.934 & 3253.084 & 3880.934\\\\\n",
       "\t 2025     & 3253.084 & 3880.934 & 3253.084 & 3880.934\\\\\n",
       "\t 2050     & 3253.084 & 3880.934 & 3253.084 & 3880.934\\\\\n",
       "\t 2075     & 3253.084 & 3880.934 & 3253.084 & 3880.934\\\\\n",
       "\t 2099     & 3253.084 & 3880.934 & 3253.084 & 3880.934\\\\\n",
       "\\end{tabular}\n"
      ],
      "text/markdown": [
       "\n",
       "| Year | GFDL.q100 | GFDL.q500 | CCSM.q100 | CCSM.q500 |\n",
       "|---|---|---|---|---|\n",
       "| 2000     | 3253.084 | 3880.934 | 3253.084 | 3880.934 |\n",
       "| 2025     | 3253.084 | 3880.934 | 3253.084 | 3880.934 |\n",
       "| 2050     | 3253.084 | 3880.934 | 3253.084 | 3880.934 |\n",
       "| 2075     | 3253.084 | 3880.934 | 3253.084 | 3880.934 |\n",
       "| 2099     | 3253.084 | 3880.934 | 3253.084 | 3880.934 |\n",
       "\n"
      ],
      "text/plain": [
       "  Year GFDL.q100 GFDL.q500 CCSM.q100 CCSM.q500\n",
       "1 2000 3253.084  3880.934  3253.084  3880.934 \n",
       "2 2025 3253.084  3880.934  3253.084  3880.934 \n",
       "3 2050 3253.084  3880.934  3253.084  3880.934 \n",
       "4 2075 3253.084  3880.934  3253.084  3880.934 \n",
       "5 2099 3253.084  3880.934  3253.084  3880.934 "
      ]
     },
     "metadata": {},
     "output_type": "display_data"
    }
   ],
   "source": [
    "cot.df.stationary.hist"
   ]
  },
  {
   "cell_type": "code",
   "execution_count": 56,
   "metadata": {},
   "outputs": [
    {
     "data": {
      "text/html": [
       "<table>\n",
       "<thead><tr><th scope=col>Year</th><th scope=col>GFDL.q100</th><th scope=col>GFDL.q500</th><th scope=col>CCSM.q100</th><th scope=col>CCSM.q500</th></tr></thead>\n",
       "<tbody>\n",
       "\t<tr><td>2000    </td><td>3782.929</td><td>4389.98 </td><td>3782.929</td><td>4389.98 </td></tr>\n",
       "\t<tr><td>2025    </td><td>3782.929</td><td>4389.98 </td><td>3782.929</td><td>4389.98 </td></tr>\n",
       "\t<tr><td>2050    </td><td>3782.929</td><td>4389.98 </td><td>3782.929</td><td>4389.98 </td></tr>\n",
       "\t<tr><td>2075    </td><td>3782.929</td><td>4389.98 </td><td>3782.929</td><td>4389.98 </td></tr>\n",
       "\t<tr><td>2099    </td><td>3782.929</td><td>4389.98 </td><td>3782.929</td><td>4389.98 </td></tr>\n",
       "</tbody>\n",
       "</table>\n"
      ],
      "text/latex": [
       "\\begin{tabular}{r|lllll}\n",
       " Year & GFDL.q100 & GFDL.q500 & CCSM.q100 & CCSM.q500\\\\\n",
       "\\hline\n",
       "\t 2000     & 3782.929 & 4389.98  & 3782.929 & 4389.98 \\\\\n",
       "\t 2025     & 3782.929 & 4389.98  & 3782.929 & 4389.98 \\\\\n",
       "\t 2050     & 3782.929 & 4389.98  & 3782.929 & 4389.98 \\\\\n",
       "\t 2075     & 3782.929 & 4389.98  & 3782.929 & 4389.98 \\\\\n",
       "\t 2099     & 3782.929 & 4389.98  & 3782.929 & 4389.98 \\\\\n",
       "\\end{tabular}\n"
      ],
      "text/markdown": [
       "\n",
       "| Year | GFDL.q100 | GFDL.q500 | CCSM.q100 | CCSM.q500 |\n",
       "|---|---|---|---|---|\n",
       "| 2000     | 3782.929 | 4389.98  | 3782.929 | 4389.98  |\n",
       "| 2025     | 3782.929 | 4389.98  | 3782.929 | 4389.98  |\n",
       "| 2050     | 3782.929 | 4389.98  | 3782.929 | 4389.98  |\n",
       "| 2075     | 3782.929 | 4389.98  | 3782.929 | 4389.98  |\n",
       "| 2099     | 3782.929 | 4389.98  | 3782.929 | 4389.98  |\n",
       "\n"
      ],
      "text/plain": [
       "  Year GFDL.q100 GFDL.q500 CCSM.q100 CCSM.q500\n",
       "1 2000 3782.929  4389.98   3782.929  4389.98  \n",
       "2 2025 3782.929  4389.98   3782.929  4389.98  \n",
       "3 2050 3782.929  4389.98   3782.929  4389.98  \n",
       "4 2075 3782.929  4389.98   3782.929  4389.98  \n",
       "5 2099 3782.929  4389.98   3782.929  4389.98  "
      ]
     },
     "metadata": {},
     "output_type": "display_data"
    }
   ],
   "source": [
    "uc.df.stationary.hist"
   ]
  },
  {
   "cell_type": "code",
   "execution_count": null,
   "metadata": {},
   "outputs": [],
   "source": []
  },
  {
   "cell_type": "code",
   "execution_count": null,
   "metadata": {},
   "outputs": [],
   "source": []
  }
 ],
 "metadata": {
  "kernelspec": {
   "display_name": "R",
   "language": "R",
   "name": "ir"
  },
  "language_info": {
   "codemirror_mode": "r",
   "file_extension": ".r",
   "mimetype": "text/x-r-source",
   "name": "R",
   "pygments_lexer": "r",
   "version": "3.6.1"
  }
 },
 "nbformat": 4,
 "nbformat_minor": 5
}
